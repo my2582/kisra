{
 "cells": [
  {
   "cell_type": "code",
   "execution_count": 1,
   "id": "ae701562",
   "metadata": {
    "ExecuteTime": {
     "end_time": "2021-10-06T07:37:14.764080Z",
     "start_time": "2021-10-06T07:37:13.144413Z"
    }
   },
   "outputs": [],
   "source": [
    "import pandas as pd\n",
    "from datetime import datetime"
   ]
  },
  {
   "cell_type": "code",
   "execution_count": 2,
   "id": "a61fe4f0",
   "metadata": {
    "ExecuteTime": {
     "end_time": "2021-10-06T07:37:14.770064Z",
     "start_time": "2021-10-06T07:37:14.766075Z"
    }
   },
   "outputs": [],
   "source": [
    "# csv_file0601 = '../../data/processed/advised_portfolios-0601.dat'\n",
    "# df = pd.read_csv(csv_file0601, parse_dates=['date'])"
   ]
  },
  {
   "cell_type": "code",
   "execution_count": 3,
   "id": "9e478fd4",
   "metadata": {
    "ExecuteTime": {
     "end_time": "2021-10-06T07:37:14.780037Z",
     "start_time": "2021-10-06T07:37:14.772059Z"
    }
   },
   "outputs": [],
   "source": [
    "# df.date = df.date.dt.strftime('%Y-%m-%d')"
   ]
  },
  {
   "cell_type": "code",
   "execution_count": 4,
   "id": "f0ac5f8c",
   "metadata": {
    "ExecuteTime": {
     "end_time": "2021-10-06T07:37:14.789014Z",
     "start_time": "2021-10-06T07:37:14.782033Z"
    }
   },
   "outputs": [],
   "source": [
    "# df.to_pickle('../../data/processed/advised_portfolios-0601_new.pkl')"
   ]
  },
  {
   "cell_type": "code",
   "execution_count": null,
   "id": "5154c912",
   "metadata": {},
   "outputs": [],
   "source": []
  },
  {
   "cell_type": "code",
   "execution_count": 5,
   "id": "cd568bd0",
   "metadata": {
    "ExecuteTime": {
     "end_time": "2021-10-06T07:37:14.798987Z",
     "start_time": "2021-10-06T07:37:14.790011Z"
    }
   },
   "outputs": [],
   "source": [
    "access_path = '../../data/processed/'\n",
    "filename = ['advised_portfolios.pkl', 'advised_portfolios-1006.pkl']\n",
    "full_path = [access_path + file_nm for file_nm in filename]"
   ]
  },
  {
   "cell_type": "code",
   "execution_count": 6,
   "id": "4410a1cd",
   "metadata": {
    "ExecuteTime": {
     "end_time": "2021-10-06T07:37:14.870822Z",
     "start_time": "2021-10-06T07:37:14.800982Z"
    }
   },
   "outputs": [],
   "source": [
    "ports = [pd.read_pickle(file) for file in full_path]"
   ]
  },
  {
   "cell_type": "code",
   "execution_count": 7,
   "id": "76b8ea39",
   "metadata": {
    "ExecuteTime": {
     "end_time": "2021-10-06T07:37:14.895729Z",
     "start_time": "2021-10-06T07:37:14.871820Z"
    }
   },
   "outputs": [
    {
     "data": {
      "text/html": [
       "<div>\n",
       "<style scoped>\n",
       "    .dataframe tbody tr th:only-of-type {\n",
       "        vertical-align: middle;\n",
       "    }\n",
       "\n",
       "    .dataframe tbody tr th {\n",
       "        vertical-align: top;\n",
       "    }\n",
       "\n",
       "    .dataframe thead th {\n",
       "        text-align: right;\n",
       "    }\n",
       "</style>\n",
       "<table border=\"1\" class=\"dataframe\">\n",
       "  <thead>\n",
       "    <tr style=\"text-align: right;\">\n",
       "      <th></th>\n",
       "      <th>date</th>\n",
       "      <th>risk_profile</th>\n",
       "      <th>itemcode</th>\n",
       "      <th>weights</th>\n",
       "      <th>tracking_code</th>\n",
       "      <th>itemname</th>\n",
       "      <th>price</th>\n",
       "      <th>volume</th>\n",
       "      <th>trading_amt_mln</th>\n",
       "      <th>asset_class</th>\n",
       "    </tr>\n",
       "  </thead>\n",
       "  <tbody>\n",
       "    <tr>\n",
       "      <th>0</th>\n",
       "      <td>2019-01-02</td>\n",
       "      <td>2</td>\n",
       "      <td>A273130</td>\n",
       "      <td>0.240000</td>\n",
       "      <td>ACT_BOND_D4</td>\n",
       "      <td>KODEX 종합채권(AA-이상)액티브</td>\n",
       "      <td>104320.0</td>\n",
       "      <td>26468.0</td>\n",
       "      <td>858.104496</td>\n",
       "      <td>Fixed Income</td>\n",
       "    </tr>\n",
       "    <tr>\n",
       "      <th>1</th>\n",
       "      <td>2019-01-02</td>\n",
       "      <td>2</td>\n",
       "      <td>A214980</td>\n",
       "      <td>0.240000</td>\n",
       "      <td>MM_PLUS</td>\n",
       "      <td>KODEX 단기채권PLUS</td>\n",
       "      <td>100050.0</td>\n",
       "      <td>10160.0</td>\n",
       "      <td>508.874866</td>\n",
       "      <td>Fixed Income</td>\n",
       "    </tr>\n",
       "    <tr>\n",
       "      <th>2</th>\n",
       "      <td>2019-01-02</td>\n",
       "      <td>2</td>\n",
       "      <td>A196230</td>\n",
       "      <td>0.207716</td>\n",
       "      <td>BOK_D.4</td>\n",
       "      <td>KBSTAR 단기통안채</td>\n",
       "      <td>101423.0</td>\n",
       "      <td>393085.0</td>\n",
       "      <td>16568.430895</td>\n",
       "      <td>Fixed Income</td>\n",
       "    </tr>\n",
       "    <tr>\n",
       "      <th>3</th>\n",
       "      <td>2019-01-02</td>\n",
       "      <td>2</td>\n",
       "      <td>A114260</td>\n",
       "      <td>0.100000</td>\n",
       "      <td>KTB_D3</td>\n",
       "      <td>KODEX 국고채3년</td>\n",
       "      <td>55690.0</td>\n",
       "      <td>5449.0</td>\n",
       "      <td>251.127486</td>\n",
       "      <td>Fixed Income</td>\n",
       "    </tr>\n",
       "    <tr>\n",
       "      <th>4</th>\n",
       "      <td>2019-01-02</td>\n",
       "      <td>2</td>\n",
       "      <td>A122260</td>\n",
       "      <td>0.092284</td>\n",
       "      <td>BOK_D1</td>\n",
       "      <td>KOSEF 통안채1년</td>\n",
       "      <td>97761.0</td>\n",
       "      <td>42453.0</td>\n",
       "      <td>13238.397304</td>\n",
       "      <td>Fixed Income</td>\n",
       "    </tr>\n",
       "    <tr>\n",
       "      <th>...</th>\n",
       "      <td>...</td>\n",
       "      <td>...</td>\n",
       "      <td>...</td>\n",
       "      <td>...</td>\n",
       "      <td>...</td>\n",
       "      <td>...</td>\n",
       "      <td>...</td>\n",
       "      <td>...</td>\n",
       "      <td>...</td>\n",
       "      <td>...</td>\n",
       "    </tr>\n",
       "    <tr>\n",
       "      <th>22598</th>\n",
       "      <td>2021-09-30</td>\n",
       "      <td>4</td>\n",
       "      <td>A157490</td>\n",
       "      <td>0.240000</td>\n",
       "      <td>SW</td>\n",
       "      <td>TIGER 소프트웨어</td>\n",
       "      <td>16260.0</td>\n",
       "      <td>156672.0</td>\n",
       "      <td>2448.023181</td>\n",
       "      <td>Equity</td>\n",
       "    </tr>\n",
       "    <tr>\n",
       "      <th>22599</th>\n",
       "      <td>2021-09-30</td>\n",
       "      <td>4</td>\n",
       "      <td>A278540</td>\n",
       "      <td>0.240000</td>\n",
       "      <td>MSCI_KR</td>\n",
       "      <td>KODEX MSCI Korea TR</td>\n",
       "      <td>12875.0</td>\n",
       "      <td>285784.0</td>\n",
       "      <td>7925.438872</td>\n",
       "      <td>Equity</td>\n",
       "    </tr>\n",
       "    <tr>\n",
       "      <th>22600</th>\n",
       "      <td>2021-09-30</td>\n",
       "      <td>4</td>\n",
       "      <td>A102780</td>\n",
       "      <td>0.136000</td>\n",
       "      <td>SAMSUNG_FN</td>\n",
       "      <td>KODEX 삼성그룹</td>\n",
       "      <td>10075.0</td>\n",
       "      <td>186559.0</td>\n",
       "      <td>4535.938630</td>\n",
       "      <td>Equity</td>\n",
       "    </tr>\n",
       "    <tr>\n",
       "      <th>22601</th>\n",
       "      <td>2021-09-30</td>\n",
       "      <td>4</td>\n",
       "      <td>A069500</td>\n",
       "      <td>0.084000</td>\n",
       "      <td>K200</td>\n",
       "      <td>KODEX 200</td>\n",
       "      <td>40195.0</td>\n",
       "      <td>6593205.0</td>\n",
       "      <td>201880.214928</td>\n",
       "      <td>Equity</td>\n",
       "    </tr>\n",
       "    <tr>\n",
       "      <th>22602</th>\n",
       "      <td>2021-09-30</td>\n",
       "      <td>4</td>\n",
       "      <td>A114260</td>\n",
       "      <td>0.060000</td>\n",
       "      <td>KTB_D3</td>\n",
       "      <td>KODEX 국고채3년</td>\n",
       "      <td>57760.0</td>\n",
       "      <td>27005.0</td>\n",
       "      <td>509.826808</td>\n",
       "      <td>Fixed Income</td>\n",
       "    </tr>\n",
       "  </tbody>\n",
       "</table>\n",
       "<p>22603 rows × 10 columns</p>\n",
       "</div>"
      ],
      "text/plain": [
       "             date  risk_profile itemcode   weights tracking_code  \\\n",
       "0      2019-01-02             2  A273130  0.240000   ACT_BOND_D4   \n",
       "1      2019-01-02             2  A214980  0.240000       MM_PLUS   \n",
       "2      2019-01-02             2  A196230  0.207716       BOK_D.4   \n",
       "3      2019-01-02             2  A114260  0.100000        KTB_D3   \n",
       "4      2019-01-02             2  A122260  0.092284        BOK_D1   \n",
       "...           ...           ...      ...       ...           ...   \n",
       "22598  2021-09-30             4  A157490  0.240000            SW   \n",
       "22599  2021-09-30             4  A278540  0.240000       MSCI_KR   \n",
       "22600  2021-09-30             4  A102780  0.136000    SAMSUNG_FN   \n",
       "22601  2021-09-30             4  A069500  0.084000          K200   \n",
       "22602  2021-09-30             4  A114260  0.060000        KTB_D3   \n",
       "\n",
       "                   itemname     price     volume  trading_amt_mln  \\\n",
       "0      KODEX 종합채권(AA-이상)액티브  104320.0    26468.0       858.104496   \n",
       "1            KODEX 단기채권PLUS  100050.0    10160.0       508.874866   \n",
       "2              KBSTAR 단기통안채  101423.0   393085.0     16568.430895   \n",
       "3               KODEX 국고채3년   55690.0     5449.0       251.127486   \n",
       "4               KOSEF 통안채1년   97761.0    42453.0     13238.397304   \n",
       "...                     ...       ...        ...              ...   \n",
       "22598           TIGER 소프트웨어   16260.0   156672.0      2448.023181   \n",
       "22599   KODEX MSCI Korea TR   12875.0   285784.0      7925.438872   \n",
       "22600            KODEX 삼성그룹   10075.0   186559.0      4535.938630   \n",
       "22601             KODEX 200   40195.0  6593205.0    201880.214928   \n",
       "22602           KODEX 국고채3년   57760.0    27005.0       509.826808   \n",
       "\n",
       "        asset_class  \n",
       "0      Fixed Income  \n",
       "1      Fixed Income  \n",
       "2      Fixed Income  \n",
       "3      Fixed Income  \n",
       "4      Fixed Income  \n",
       "...             ...  \n",
       "22598        Equity  \n",
       "22599        Equity  \n",
       "22600        Equity  \n",
       "22601        Equity  \n",
       "22602  Fixed Income  \n",
       "\n",
       "[22603 rows x 10 columns]"
      ]
     },
     "execution_count": 7,
     "metadata": {},
     "output_type": "execute_result"
    }
   ],
   "source": [
    "ports[0]"
   ]
  },
  {
   "cell_type": "markdown",
   "id": "opening-turner",
   "metadata": {},
   "source": []
  },
  {
   "cell_type": "code",
   "execution_count": 8,
   "id": "26bd215f",
   "metadata": {
    "ExecuteTime": {
     "end_time": "2021-10-06T07:37:22.083501Z",
     "start_time": "2021-10-06T07:37:22.079512Z"
    }
   },
   "outputs": [],
   "source": [
    "# 마지막 거래일의 advised pf를 휴일로 복사하는 코드 시작\n",
    "# ports[1] = ports[1].loc[ports[1].date <= '2021-07-30', :]"
   ]
  },
  {
   "cell_type": "code",
   "execution_count": 9,
   "id": "neutral-retailer",
   "metadata": {
    "ExecuteTime": {
     "end_time": "2021-10-06T07:37:22.251053Z",
     "start_time": "2021-10-06T07:37:22.248061Z"
    }
   },
   "outputs": [],
   "source": [
    "# df_temp = ports[1].loc[ports[1].date == '2021-07-30', :].copy()"
   ]
  },
  {
   "cell_type": "code",
   "execution_count": 10,
   "id": "interested-adrian",
   "metadata": {
    "ExecuteTime": {
     "end_time": "2021-10-06T07:37:22.435560Z",
     "start_time": "2021-10-06T07:37:22.431571Z"
    }
   },
   "outputs": [],
   "source": [
    "# df_temp.date = '2021-07-31'"
   ]
  },
  {
   "cell_type": "code",
   "execution_count": 11,
   "id": "angry-consent",
   "metadata": {
    "ExecuteTime": {
     "end_time": "2021-10-06T07:37:22.612087Z",
     "start_time": "2021-10-06T07:37:22.608097Z"
    }
   },
   "outputs": [],
   "source": [
    "# df_temp2 = ports[1].loc[ports[1].date == '2021-07-30', :].copy()\n",
    "# df_temp2.date = '2021-08-01'"
   ]
  },
  {
   "cell_type": "code",
   "execution_count": 12,
   "id": "heard-excuse",
   "metadata": {
    "ExecuteTime": {
     "end_time": "2021-10-06T07:37:22.786620Z",
     "start_time": "2021-10-06T07:37:22.783628Z"
    }
   },
   "outputs": [],
   "source": [
    "# ports[1] = pd.concat((ports[1], df_temp2), axis=0)"
   ]
  },
  {
   "cell_type": "code",
   "execution_count": 13,
   "id": "furnished-chinese",
   "metadata": {
    "ExecuteTime": {
     "end_time": "2021-10-06T07:37:22.955169Z",
     "start_time": "2021-10-06T07:37:22.951180Z"
    }
   },
   "outputs": [],
   "source": [
    "# ports[1].loc[ports[1].date>='2021-07-30', :].tail(60)"
   ]
  },
  {
   "cell_type": "code",
   "execution_count": null,
   "id": "ranging-standing",
   "metadata": {},
   "outputs": [],
   "source": []
  },
  {
   "cell_type": "code",
   "execution_count": null,
   "id": "charming-subject",
   "metadata": {},
   "outputs": [],
   "source": []
  },
  {
   "cell_type": "code",
   "execution_count": null,
   "id": "nervous-journey",
   "metadata": {},
   "outputs": [],
   "source": []
  },
  {
   "cell_type": "code",
   "execution_count": null,
   "id": "antique-cambodia",
   "metadata": {},
   "outputs": [],
   "source": []
  },
  {
   "cell_type": "code",
   "execution_count": 14,
   "id": "58ecc1e3",
   "metadata": {
    "ExecuteTime": {
     "end_time": "2021-10-06T07:37:24.177898Z",
     "start_time": "2021-10-06T07:37:24.167925Z"
    }
   },
   "outputs": [],
   "source": [
    "df = pd.concat(ports, axis=0)\n",
    "df = df.reset_index(drop=True)"
   ]
  },
  {
   "cell_type": "code",
   "execution_count": 15,
   "id": "c0881f7e",
   "metadata": {
    "ExecuteTime": {
     "end_time": "2021-10-06T07:37:24.896976Z",
     "start_time": "2021-10-06T07:37:24.881018Z"
    },
    "scrolled": false
   },
   "outputs": [
    {
     "data": {
      "text/html": [
       "<div>\n",
       "<style scoped>\n",
       "    .dataframe tbody tr th:only-of-type {\n",
       "        vertical-align: middle;\n",
       "    }\n",
       "\n",
       "    .dataframe tbody tr th {\n",
       "        vertical-align: top;\n",
       "    }\n",
       "\n",
       "    .dataframe thead th {\n",
       "        text-align: right;\n",
       "    }\n",
       "</style>\n",
       "<table border=\"1\" class=\"dataframe\">\n",
       "  <thead>\n",
       "    <tr style=\"text-align: right;\">\n",
       "      <th></th>\n",
       "      <th>date</th>\n",
       "      <th>risk_profile</th>\n",
       "      <th>itemcode</th>\n",
       "      <th>weights</th>\n",
       "      <th>tracking_code</th>\n",
       "      <th>itemname</th>\n",
       "      <th>price</th>\n",
       "      <th>volume</th>\n",
       "      <th>trading_amt_mln</th>\n",
       "      <th>asset_class</th>\n",
       "    </tr>\n",
       "  </thead>\n",
       "  <tbody>\n",
       "    <tr>\n",
       "      <th>0</th>\n",
       "      <td>2019-01-02</td>\n",
       "      <td>2</td>\n",
       "      <td>A273130</td>\n",
       "      <td>0.240000</td>\n",
       "      <td>ACT_BOND_D4</td>\n",
       "      <td>KODEX 종합채권(AA-이상)액티브</td>\n",
       "      <td>104320.0</td>\n",
       "      <td>26468.0</td>\n",
       "      <td>858.104496</td>\n",
       "      <td>Fixed Income</td>\n",
       "    </tr>\n",
       "    <tr>\n",
       "      <th>1</th>\n",
       "      <td>2019-01-02</td>\n",
       "      <td>2</td>\n",
       "      <td>A214980</td>\n",
       "      <td>0.240000</td>\n",
       "      <td>MM_PLUS</td>\n",
       "      <td>KODEX 단기채권PLUS</td>\n",
       "      <td>100050.0</td>\n",
       "      <td>10160.0</td>\n",
       "      <td>508.874866</td>\n",
       "      <td>Fixed Income</td>\n",
       "    </tr>\n",
       "    <tr>\n",
       "      <th>2</th>\n",
       "      <td>2019-01-02</td>\n",
       "      <td>2</td>\n",
       "      <td>A196230</td>\n",
       "      <td>0.207716</td>\n",
       "      <td>BOK_D.4</td>\n",
       "      <td>KBSTAR 단기통안채</td>\n",
       "      <td>101423.0</td>\n",
       "      <td>393085.0</td>\n",
       "      <td>16568.430895</td>\n",
       "      <td>Fixed Income</td>\n",
       "    </tr>\n",
       "    <tr>\n",
       "      <th>3</th>\n",
       "      <td>2019-01-02</td>\n",
       "      <td>2</td>\n",
       "      <td>A114260</td>\n",
       "      <td>0.100000</td>\n",
       "      <td>KTB_D3</td>\n",
       "      <td>KODEX 국고채3년</td>\n",
       "      <td>55690.0</td>\n",
       "      <td>5449.0</td>\n",
       "      <td>251.127486</td>\n",
       "      <td>Fixed Income</td>\n",
       "    </tr>\n",
       "    <tr>\n",
       "      <th>4</th>\n",
       "      <td>2019-01-02</td>\n",
       "      <td>2</td>\n",
       "      <td>A122260</td>\n",
       "      <td>0.092284</td>\n",
       "      <td>BOK_D1</td>\n",
       "      <td>KOSEF 통안채1년</td>\n",
       "      <td>97761.0</td>\n",
       "      <td>42453.0</td>\n",
       "      <td>13238.397304</td>\n",
       "      <td>Fixed Income</td>\n",
       "    </tr>\n",
       "    <tr>\n",
       "      <th>...</th>\n",
       "      <td>...</td>\n",
       "      <td>...</td>\n",
       "      <td>...</td>\n",
       "      <td>...</td>\n",
       "      <td>...</td>\n",
       "      <td>...</td>\n",
       "      <td>...</td>\n",
       "      <td>...</td>\n",
       "      <td>...</td>\n",
       "      <td>...</td>\n",
       "    </tr>\n",
       "    <tr>\n",
       "      <th>22725</th>\n",
       "      <td>2021-10-06</td>\n",
       "      <td>4</td>\n",
       "      <td>A157490</td>\n",
       "      <td>0.240000</td>\n",
       "      <td>SW</td>\n",
       "      <td>TIGER 소프트웨어</td>\n",
       "      <td>15600.0</td>\n",
       "      <td>146235.0</td>\n",
       "      <td>2490.724909</td>\n",
       "      <td>Equity</td>\n",
       "    </tr>\n",
       "    <tr>\n",
       "      <th>22726</th>\n",
       "      <td>2021-10-06</td>\n",
       "      <td>4</td>\n",
       "      <td>A278540</td>\n",
       "      <td>0.240000</td>\n",
       "      <td>MSCI_KR</td>\n",
       "      <td>KODEX MSCI Korea TR</td>\n",
       "      <td>12230.0</td>\n",
       "      <td>219701.0</td>\n",
       "      <td>7878.087353</td>\n",
       "      <td>Equity</td>\n",
       "    </tr>\n",
       "    <tr>\n",
       "      <th>22727</th>\n",
       "      <td>2021-10-06</td>\n",
       "      <td>4</td>\n",
       "      <td>A102780</td>\n",
       "      <td>0.136000</td>\n",
       "      <td>SAMSUNG_FN</td>\n",
       "      <td>KODEX 삼성그룹</td>\n",
       "      <td>9580.0</td>\n",
       "      <td>166615.0</td>\n",
       "      <td>4545.094433</td>\n",
       "      <td>Equity</td>\n",
       "    </tr>\n",
       "    <tr>\n",
       "      <th>22728</th>\n",
       "      <td>2021-10-06</td>\n",
       "      <td>4</td>\n",
       "      <td>A069500</td>\n",
       "      <td>0.084000</td>\n",
       "      <td>K200</td>\n",
       "      <td>KODEX 200</td>\n",
       "      <td>38260.0</td>\n",
       "      <td>6684166.0</td>\n",
       "      <td>202640.002977</td>\n",
       "      <td>Equity</td>\n",
       "    </tr>\n",
       "    <tr>\n",
       "      <th>22729</th>\n",
       "      <td>2021-10-06</td>\n",
       "      <td>4</td>\n",
       "      <td>A114260</td>\n",
       "      <td>0.060000</td>\n",
       "      <td>KTB_D3</td>\n",
       "      <td>KODEX 국고채3년</td>\n",
       "      <td>57515.0</td>\n",
       "      <td>21433.0</td>\n",
       "      <td>541.481999</td>\n",
       "      <td>Fixed Income</td>\n",
       "    </tr>\n",
       "  </tbody>\n",
       "</table>\n",
       "<p>22730 rows × 10 columns</p>\n",
       "</div>"
      ],
      "text/plain": [
       "             date  risk_profile itemcode   weights tracking_code  \\\n",
       "0      2019-01-02             2  A273130  0.240000   ACT_BOND_D4   \n",
       "1      2019-01-02             2  A214980  0.240000       MM_PLUS   \n",
       "2      2019-01-02             2  A196230  0.207716       BOK_D.4   \n",
       "3      2019-01-02             2  A114260  0.100000        KTB_D3   \n",
       "4      2019-01-02             2  A122260  0.092284        BOK_D1   \n",
       "...           ...           ...      ...       ...           ...   \n",
       "22725  2021-10-06             4  A157490  0.240000            SW   \n",
       "22726  2021-10-06             4  A278540  0.240000       MSCI_KR   \n",
       "22727  2021-10-06             4  A102780  0.136000    SAMSUNG_FN   \n",
       "22728  2021-10-06             4  A069500  0.084000          K200   \n",
       "22729  2021-10-06             4  A114260  0.060000        KTB_D3   \n",
       "\n",
       "                   itemname     price     volume  trading_amt_mln  \\\n",
       "0      KODEX 종합채권(AA-이상)액티브  104320.0    26468.0       858.104496   \n",
       "1            KODEX 단기채권PLUS  100050.0    10160.0       508.874866   \n",
       "2              KBSTAR 단기통안채  101423.0   393085.0     16568.430895   \n",
       "3               KODEX 국고채3년   55690.0     5449.0       251.127486   \n",
       "4               KOSEF 통안채1년   97761.0    42453.0     13238.397304   \n",
       "...                     ...       ...        ...              ...   \n",
       "22725           TIGER 소프트웨어   15600.0   146235.0      2490.724909   \n",
       "22726   KODEX MSCI Korea TR   12230.0   219701.0      7878.087353   \n",
       "22727            KODEX 삼성그룹    9580.0   166615.0      4545.094433   \n",
       "22728             KODEX 200   38260.0  6684166.0    202640.002977   \n",
       "22729           KODEX 국고채3년   57515.0    21433.0       541.481999   \n",
       "\n",
       "        asset_class  \n",
       "0      Fixed Income  \n",
       "1      Fixed Income  \n",
       "2      Fixed Income  \n",
       "3      Fixed Income  \n",
       "4      Fixed Income  \n",
       "...             ...  \n",
       "22725        Equity  \n",
       "22726        Equity  \n",
       "22727        Equity  \n",
       "22728        Equity  \n",
       "22729  Fixed Income  \n",
       "\n",
       "[22730 rows x 10 columns]"
      ]
     },
     "execution_count": 15,
     "metadata": {},
     "output_type": "execute_result"
    }
   ],
   "source": [
    "df"
   ]
  },
  {
   "cell_type": "code",
   "execution_count": 16,
   "id": "eb662992",
   "metadata": {
    "ExecuteTime": {
     "end_time": "2021-10-06T07:38:02.882100Z",
     "start_time": "2021-10-06T07:38:02.873096Z"
    }
   },
   "outputs": [],
   "source": [
    "df.to_pickle(access_path + 'advised_portfolios.pkl')"
   ]
  },
  {
   "cell_type": "code",
   "execution_count": null,
   "id": "7aa1c016",
   "metadata": {},
   "outputs": [],
   "source": []
  },
  {
   "cell_type": "code",
   "execution_count": null,
   "id": "a8e00a1a",
   "metadata": {},
   "outputs": [],
   "source": []
  },
  {
   "cell_type": "code",
   "execution_count": 17,
   "id": "fe9d0a32",
   "metadata": {
    "ExecuteTime": {
     "end_time": "2021-10-06T07:38:08.510721Z",
     "start_time": "2021-10-06T07:38:08.503739Z"
    }
   },
   "outputs": [
    {
     "name": "stdout",
     "output_type": "stream",
     "text": [
      "2021-10-05 16:38:08.503740\n"
     ]
    }
   ],
   "source": [
    "import datetime\n",
    "# BDay is business day, not birthday...\n",
    "from pandas.tseries.offsets import BDay\n",
    "\n",
    "today = datetime.datetime.today()\n",
    "print(today - BDay(1))"
   ]
  },
  {
   "cell_type": "code",
   "execution_count": null,
   "id": "8fc4e645",
   "metadata": {},
   "outputs": [],
   "source": []
  },
  {
   "cell_type": "code",
   "execution_count": null,
   "id": "2d29dc9e",
   "metadata": {},
   "outputs": [],
   "source": []
  }
 ],
 "metadata": {
  "kernelspec": {
   "display_name": "Python 3",
   "language": "python",
   "name": "python3"
  },
  "language_info": {
   "codemirror_mode": {
    "name": "ipython",
    "version": 3
   },
   "file_extension": ".py",
   "mimetype": "text/x-python",
   "name": "python",
   "nbconvert_exporter": "python",
   "pygments_lexer": "ipython3",
   "version": "3.8.8"
  }
 },
 "nbformat": 4,
 "nbformat_minor": 5
}
