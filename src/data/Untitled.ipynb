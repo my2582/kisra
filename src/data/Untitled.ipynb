{
 "cells": [
  {
   "cell_type": "code",
   "execution_count": 10,
   "id": "e72dfe19",
   "metadata": {
    "ExecuteTime": {
     "end_time": "2021-09-28T06:43:51.660627Z",
     "start_time": "2021-09-28T06:43:51.656637Z"
    }
   },
   "outputs": [],
   "source": [
    "from datetime import date, timedelta\n",
    "\n",
    "yesterday = date.today() - timedelta(days = 1 )"
   ]
  },
  {
   "cell_type": "code",
   "execution_count": 11,
   "id": "5f0ecd65",
   "metadata": {
    "ExecuteTime": {
     "end_time": "2021-09-28T06:43:51.972787Z",
     "start_time": "2021-09-28T06:43:51.967798Z"
    }
   },
   "outputs": [
    {
     "data": {
      "text/plain": [
       "datetime.date(2021, 9, 28)"
      ]
     },
     "execution_count": 11,
     "metadata": {},
     "output_type": "execute_result"
    }
   ],
   "source": [
    "date.today()"
   ]
  },
  {
   "cell_type": "code",
   "execution_count": 12,
   "id": "74397346",
   "metadata": {
    "ExecuteTime": {
     "end_time": "2021-09-28T06:43:52.221114Z",
     "start_time": "2021-09-28T06:43:52.215130Z"
    }
   },
   "outputs": [
    {
     "data": {
      "text/plain": [
       "datetime.date(2021, 9, 27)"
      ]
     },
     "execution_count": 12,
     "metadata": {},
     "output_type": "execute_result"
    }
   ],
   "source": [
    "yesterday"
   ]
  },
  {
   "cell_type": "code",
   "execution_count": null,
   "id": "30fdfba9",
   "metadata": {},
   "outputs": [],
   "source": []
  }
 ],
 "metadata": {
  "kernelspec": {
   "display_name": "Python 3",
   "language": "python",
   "name": "python3"
  },
  "language_info": {
   "codemirror_mode": {
    "name": "ipython",
    "version": 3
   },
   "file_extension": ".py",
   "mimetype": "text/x-python",
   "name": "python",
   "nbconvert_exporter": "python",
   "pygments_lexer": "ipython3",
   "version": "3.8.8"
  }
 },
 "nbformat": 4,
 "nbformat_minor": 5
}
