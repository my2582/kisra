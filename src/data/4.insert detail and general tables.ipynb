{
 "cells": [
  {
   "cell_type": "code",
   "execution_count": 1,
   "id": "c7fc8398",
   "metadata": {
    "ExecuteTime": {
     "end_time": "2021-09-30T23:06:50.091363Z",
     "start_time": "2021-09-30T23:06:48.560454Z"
    }
   },
   "outputs": [],
   "source": [
    "import pandas as pd"
   ]
  },
  {
   "cell_type": "code",
   "execution_count": 2,
   "id": "84e046a9",
   "metadata": {
    "ExecuteTime": {
     "end_time": "2021-09-30T23:06:50.097343Z",
     "start_time": "2021-09-30T23:06:50.093354Z"
    }
   },
   "outputs": [],
   "source": [
    "import datetime as datetime"
   ]
  },
  {
   "cell_type": "code",
   "execution_count": 3,
   "id": "5936343f",
   "metadata": {
    "ExecuteTime": {
     "end_time": "2021-09-30T23:06:50.728655Z",
     "start_time": "2021-09-30T23:06:50.725663Z"
    }
   },
   "outputs": [],
   "source": [
    "access_path = '../../data/processed/'\n",
    "bal_file = 'bal_btw_rebal.dat'\n",
    "# bal_file = 'balance_rebaldate_0801_all.dat'"
   ]
  },
  {
   "cell_type": "markdown",
   "id": "97535736",
   "metadata": {},
   "source": [
    "#### 매일의 잔고(detail 테이블) INSERT"
   ]
  },
  {
   "cell_type": "code",
   "execution_count": 4,
   "id": "ebb2f9f2",
   "metadata": {
    "ExecuteTime": {
     "end_time": "2021-09-30T23:06:52.303448Z",
     "start_time": "2021-09-30T23:06:52.284494Z"
    }
   },
   "outputs": [],
   "source": [
    "df_bal = pd.read_csv(access_path+bal_file, parse_dates=['date'])"
   ]
  },
  {
   "cell_type": "code",
   "execution_count": 5,
   "id": "16851be0",
   "metadata": {
    "ExecuteTime": {
     "end_time": "2021-09-30T23:06:53.986941Z",
     "start_time": "2021-09-30T23:06:53.965997Z"
    }
   },
   "outputs": [
    {
     "data": {
      "text/html": [
       "<div>\n",
       "<style scoped>\n",
       "    .dataframe tbody tr th:only-of-type {\n",
       "        vertical-align: middle;\n",
       "    }\n",
       "\n",
       "    .dataframe tbody tr th {\n",
       "        vertical-align: top;\n",
       "    }\n",
       "\n",
       "    .dataframe thead th {\n",
       "        text-align: right;\n",
       "    }\n",
       "</style>\n",
       "<table border=\"1\" class=\"dataframe\">\n",
       "  <thead>\n",
       "    <tr style=\"text-align: right;\">\n",
       "      <th></th>\n",
       "      <th>date</th>\n",
       "      <th>itemcode</th>\n",
       "      <th>userid</th>\n",
       "      <th>name</th>\n",
       "      <th>asset_class</th>\n",
       "      <th>itemname</th>\n",
       "      <th>quantity</th>\n",
       "      <th>cost_price</th>\n",
       "      <th>cost_value</th>\n",
       "      <th>price</th>\n",
       "      <th>value</th>\n",
       "      <th>wt</th>\n",
       "      <th>group_by</th>\n",
       "      <th>original</th>\n",
       "    </tr>\n",
       "  </thead>\n",
       "  <tbody>\n",
       "    <tr>\n",
       "      <th>0</th>\n",
       "      <td>2021-09-02</td>\n",
       "      <td>A114260</td>\n",
       "      <td>A001</td>\n",
       "      <td>안정추구형소규모</td>\n",
       "      <td>Fixed Income</td>\n",
       "      <td>KODEX 국고채3년</td>\n",
       "      <td>2.0</td>\n",
       "      <td>58140.0</td>\n",
       "      <td>116280.0</td>\n",
       "      <td>58060.0</td>\n",
       "      <td>116120.0</td>\n",
       "      <td>0.162425</td>\n",
       "      <td>NaN</td>\n",
       "      <td>NaN</td>\n",
       "    </tr>\n",
       "    <tr>\n",
       "      <th>1</th>\n",
       "      <td>2021-09-02</td>\n",
       "      <td>A122260</td>\n",
       "      <td>A001</td>\n",
       "      <td>안정추구형소규모</td>\n",
       "      <td>Fixed Income</td>\n",
       "      <td>KOSEF 통안채1년</td>\n",
       "      <td>1.0</td>\n",
       "      <td>101265.0</td>\n",
       "      <td>101265.0</td>\n",
       "      <td>101295.0</td>\n",
       "      <td>101295.0</td>\n",
       "      <td>0.141688</td>\n",
       "      <td>NaN</td>\n",
       "      <td>NaN</td>\n",
       "    </tr>\n",
       "    <tr>\n",
       "      <th>2</th>\n",
       "      <td>2021-09-02</td>\n",
       "      <td>A130730</td>\n",
       "      <td>A001</td>\n",
       "      <td>안정추구형소규모</td>\n",
       "      <td>Fixed Income</td>\n",
       "      <td>KOSEF 단기자금</td>\n",
       "      <td>2.0</td>\n",
       "      <td>101190.0</td>\n",
       "      <td>202380.0</td>\n",
       "      <td>101205.0</td>\n",
       "      <td>202410.0</td>\n",
       "      <td>0.283125</td>\n",
       "      <td>NaN</td>\n",
       "      <td>NaN</td>\n",
       "    </tr>\n",
       "    <tr>\n",
       "      <th>3</th>\n",
       "      <td>2021-09-02</td>\n",
       "      <td>A196230</td>\n",
       "      <td>A001</td>\n",
       "      <td>안정추구형소규모</td>\n",
       "      <td>Fixed Income</td>\n",
       "      <td>KBSTAR 단기통안채</td>\n",
       "      <td>1.0</td>\n",
       "      <td>104535.0</td>\n",
       "      <td>104535.0</td>\n",
       "      <td>104560.0</td>\n",
       "      <td>104560.0</td>\n",
       "      <td>0.146255</td>\n",
       "      <td>NaN</td>\n",
       "      <td>NaN</td>\n",
       "    </tr>\n",
       "    <tr>\n",
       "      <th>4</th>\n",
       "      <td>2021-09-02</td>\n",
       "      <td>A273130</td>\n",
       "      <td>A001</td>\n",
       "      <td>안정추구형소규모</td>\n",
       "      <td>Fixed Income</td>\n",
       "      <td>KODEX 종합채권(AA-이상)액티브</td>\n",
       "      <td>1.0</td>\n",
       "      <td>109870.0</td>\n",
       "      <td>109870.0</td>\n",
       "      <td>109825.0</td>\n",
       "      <td>109825.0</td>\n",
       "      <td>0.153620</td>\n",
       "      <td>NaN</td>\n",
       "      <td>NaN</td>\n",
       "    </tr>\n",
       "    <tr>\n",
       "      <th>...</th>\n",
       "      <td>...</td>\n",
       "      <td>...</td>\n",
       "      <td>...</td>\n",
       "      <td>...</td>\n",
       "      <td>...</td>\n",
       "      <td>...</td>\n",
       "      <td>...</td>\n",
       "      <td>...</td>\n",
       "      <td>...</td>\n",
       "      <td>...</td>\n",
       "      <td>...</td>\n",
       "      <td>...</td>\n",
       "      <td>...</td>\n",
       "      <td>...</td>\n",
       "    </tr>\n",
       "    <tr>\n",
       "      <th>2083</th>\n",
       "      <td>2021-09-30</td>\n",
       "      <td>A278540</td>\n",
       "      <td>A009</td>\n",
       "      <td>적극투자형대규모</td>\n",
       "      <td>Equity</td>\n",
       "      <td>KODEX MSCI Korea TR</td>\n",
       "      <td>24.0</td>\n",
       "      <td>13490.0</td>\n",
       "      <td>323760.0</td>\n",
       "      <td>12875.0</td>\n",
       "      <td>309000.0</td>\n",
       "      <td>0.244048</td>\n",
       "      <td>NaN</td>\n",
       "      <td>NaN</td>\n",
       "    </tr>\n",
       "    <tr>\n",
       "      <th>2084</th>\n",
       "      <td>2021-09-30</td>\n",
       "      <td>A102780</td>\n",
       "      <td>A009</td>\n",
       "      <td>적극투자형대규모</td>\n",
       "      <td>Equity</td>\n",
       "      <td>KODEX 삼성그룹</td>\n",
       "      <td>17.0</td>\n",
       "      <td>10555.0</td>\n",
       "      <td>179435.0</td>\n",
       "      <td>10075.0</td>\n",
       "      <td>171275.0</td>\n",
       "      <td>0.135273</td>\n",
       "      <td>NaN</td>\n",
       "      <td>NaN</td>\n",
       "    </tr>\n",
       "    <tr>\n",
       "      <th>2085</th>\n",
       "      <td>2021-09-30</td>\n",
       "      <td>A069500</td>\n",
       "      <td>A009</td>\n",
       "      <td>적극투자형대규모</td>\n",
       "      <td>Equity</td>\n",
       "      <td>KODEX 200</td>\n",
       "      <td>3.0</td>\n",
       "      <td>41985.0</td>\n",
       "      <td>125955.0</td>\n",
       "      <td>40195.0</td>\n",
       "      <td>120585.0</td>\n",
       "      <td>0.095238</td>\n",
       "      <td>NaN</td>\n",
       "      <td>NaN</td>\n",
       "    </tr>\n",
       "    <tr>\n",
       "      <th>2086</th>\n",
       "      <td>2021-09-30</td>\n",
       "      <td>A114260</td>\n",
       "      <td>A009</td>\n",
       "      <td>적극투자형대규모</td>\n",
       "      <td>Fixed Income</td>\n",
       "      <td>KODEX 국고채3년</td>\n",
       "      <td>1.0</td>\n",
       "      <td>58140.0</td>\n",
       "      <td>58140.0</td>\n",
       "      <td>57760.0</td>\n",
       "      <td>57760.0</td>\n",
       "      <td>0.045619</td>\n",
       "      <td>NaN</td>\n",
       "      <td>NaN</td>\n",
       "    </tr>\n",
       "    <tr>\n",
       "      <th>2087</th>\n",
       "      <td>2021-09-30</td>\n",
       "      <td>C000001</td>\n",
       "      <td>A009</td>\n",
       "      <td>적극투자형대규모</td>\n",
       "      <td>Cash</td>\n",
       "      <td>현금</td>\n",
       "      <td>2785.0</td>\n",
       "      <td>1.0</td>\n",
       "      <td>2785.0</td>\n",
       "      <td>1.0</td>\n",
       "      <td>2785.0</td>\n",
       "      <td>0.002200</td>\n",
       "      <td>NaN</td>\n",
       "      <td>NaN</td>\n",
       "    </tr>\n",
       "  </tbody>\n",
       "</table>\n",
       "<p>2088 rows × 14 columns</p>\n",
       "</div>"
      ],
      "text/plain": [
       "           date itemcode userid      name   asset_class              itemname  \\\n",
       "0    2021-09-02  A114260   A001  안정추구형소규모  Fixed Income           KODEX 국고채3년   \n",
       "1    2021-09-02  A122260   A001  안정추구형소규모  Fixed Income           KOSEF 통안채1년   \n",
       "2    2021-09-02  A130730   A001  안정추구형소규모  Fixed Income            KOSEF 단기자금   \n",
       "3    2021-09-02  A196230   A001  안정추구형소규모  Fixed Income          KBSTAR 단기통안채   \n",
       "4    2021-09-02  A273130   A001  안정추구형소규모  Fixed Income  KODEX 종합채권(AA-이상)액티브   \n",
       "...         ...      ...    ...       ...           ...                   ...   \n",
       "2083 2021-09-30  A278540   A009  적극투자형대규모        Equity   KODEX MSCI Korea TR   \n",
       "2084 2021-09-30  A102780   A009  적극투자형대규모        Equity            KODEX 삼성그룹   \n",
       "2085 2021-09-30  A069500   A009  적극투자형대규모        Equity             KODEX 200   \n",
       "2086 2021-09-30  A114260   A009  적극투자형대규모  Fixed Income           KODEX 국고채3년   \n",
       "2087 2021-09-30  C000001   A009  적극투자형대규모          Cash                    현금   \n",
       "\n",
       "      quantity  cost_price  cost_value     price     value        wt  \\\n",
       "0          2.0     58140.0    116280.0   58060.0  116120.0  0.162425   \n",
       "1          1.0    101265.0    101265.0  101295.0  101295.0  0.141688   \n",
       "2          2.0    101190.0    202380.0  101205.0  202410.0  0.283125   \n",
       "3          1.0    104535.0    104535.0  104560.0  104560.0  0.146255   \n",
       "4          1.0    109870.0    109870.0  109825.0  109825.0  0.153620   \n",
       "...        ...         ...         ...       ...       ...       ...   \n",
       "2083      24.0     13490.0    323760.0   12875.0  309000.0  0.244048   \n",
       "2084      17.0     10555.0    179435.0   10075.0  171275.0  0.135273   \n",
       "2085       3.0     41985.0    125955.0   40195.0  120585.0  0.095238   \n",
       "2086       1.0     58140.0     58140.0   57760.0   57760.0  0.045619   \n",
       "2087    2785.0         1.0      2785.0       1.0    2785.0  0.002200   \n",
       "\n",
       "      group_by  original  \n",
       "0          NaN       NaN  \n",
       "1          NaN       NaN  \n",
       "2          NaN       NaN  \n",
       "3          NaN       NaN  \n",
       "4          NaN       NaN  \n",
       "...        ...       ...  \n",
       "2083       NaN       NaN  \n",
       "2084       NaN       NaN  \n",
       "2085       NaN       NaN  \n",
       "2086       NaN       NaN  \n",
       "2087       NaN       NaN  \n",
       "\n",
       "[2088 rows x 14 columns]"
      ]
     },
     "execution_count": 5,
     "metadata": {},
     "output_type": "execute_result"
    }
   ],
   "source": [
    "df_bal"
   ]
  },
  {
   "cell_type": "code",
   "execution_count": 6,
   "id": "32fb7683",
   "metadata": {
    "ExecuteTime": {
     "end_time": "2021-09-30T23:06:56.230975Z",
     "start_time": "2021-09-30T23:06:56.212988Z"
    },
    "code_folding": []
   },
   "outputs": [],
   "source": [
    "df_bal.date = df_bal['date'].dt.strftime('%#m/%#d/%Y 4:%M:%S PM')\n",
    "# df_bal.date = df_bal['date'].dt.strftime('%-m/%-d/%Y 4:%M:%S PM')"
   ]
  },
  {
   "cell_type": "code",
   "execution_count": 7,
   "id": "13f4492c",
   "metadata": {
    "ExecuteTime": {
     "end_time": "2021-09-30T23:06:56.499222Z",
     "start_time": "2021-09-30T23:06:56.493239Z"
    }
   },
   "outputs": [
    {
     "data": {
      "text/plain": [
       "0        9/2/2021 4:00:00 PM\n",
       "1        9/2/2021 4:00:00 PM\n",
       "2        9/2/2021 4:00:00 PM\n",
       "3        9/2/2021 4:00:00 PM\n",
       "4        9/2/2021 4:00:00 PM\n",
       "                ...         \n",
       "2083    9/30/2021 4:00:00 PM\n",
       "2084    9/30/2021 4:00:00 PM\n",
       "2085    9/30/2021 4:00:00 PM\n",
       "2086    9/30/2021 4:00:00 PM\n",
       "2087    9/30/2021 4:00:00 PM\n",
       "Name: date, Length: 2088, dtype: object"
      ]
     },
     "execution_count": 7,
     "metadata": {},
     "output_type": "execute_result"
    }
   ],
   "source": [
    "df_bal.date"
   ]
  },
  {
   "cell_type": "code",
   "execution_count": 8,
   "id": "bb2ab546",
   "metadata": {
    "ExecuteTime": {
     "end_time": "2021-09-30T23:06:59.371545Z",
     "start_time": "2021-09-30T23:06:58.045089Z"
    }
   },
   "outputs": [],
   "source": [
    "from sqlalchemy import create_engine\n",
    "\n",
    "# Defining our connection variables\n",
    "username = 'kdyjpzwsyqrqpb' # replace with your username\n",
    "password = '6b610da9417e361c2af3be1fd0c179061b5b258f0e6f7ff9e1da464ba221e46c' # replace with your password\n",
    "ipaddress = 'ec2-35-174-35-242.compute-1.amazonaws.com' # change this to your db’s IP address is if not Panoply\n",
    "port = 5432 # this is the standard port for Postgres, but change it to your port if needed\n",
    "dbname = 'd2ke5vkurjkusr' # change this to...you guessed it...the name of your db\n",
    "\n",
    "# A long string that contains the necessary Postgres login information\n",
    "postgres_str = f'postgresql://{username}:{password}@{ipaddress}:{port}/{dbname}'\n",
    "          \n",
    "# Create the connection\n",
    "cnx = create_engine(postgres_str)"
   ]
  },
  {
   "cell_type": "code",
   "execution_count": 9,
   "id": "e8e43fba",
   "metadata": {
    "ExecuteTime": {
     "end_time": "2021-09-30T23:07:05.348561Z",
     "start_time": "2021-09-30T23:06:59.372538Z"
    }
   },
   "outputs": [],
   "source": [
    "table_nm = 'detail'\n",
    "df_bal.to_sql(table_nm, con=cnx, index=False, if_exists='append')"
   ]
  },
  {
   "cell_type": "markdown",
   "id": "05de1469",
   "metadata": {},
   "source": [
    "### 자산군별 비중(general 테이블) INSERT"
   ]
  },
  {
   "cell_type": "code",
   "execution_count": 10,
   "id": "ccdb12e9",
   "metadata": {
    "ExecuteTime": {
     "end_time": "2021-09-30T23:07:05.368503Z",
     "start_time": "2021-09-30T23:07:05.350552Z"
    }
   },
   "outputs": [],
   "source": [
    "df_bal = pd.read_csv(access_path+bal_file, parse_dates=['date'])"
   ]
  },
  {
   "cell_type": "code",
   "execution_count": 11,
   "id": "72f4db17",
   "metadata": {
    "ExecuteTime": {
     "end_time": "2021-09-30T23:07:05.379477Z",
     "start_time": "2021-09-30T23:07:05.370498Z"
    }
   },
   "outputs": [],
   "source": [
    "df_bal_gby = df_bal.loc[:, ['date', 'userid', 'value', 'asset_class']].sort_values(\n",
    "    ['date', 'userid'],\n",
    "    ascending=True).groupby(['date', 'userid', 'asset_class'\n",
    "                             ]).sum().reset_index(drop=False)"
   ]
  },
  {
   "cell_type": "code",
   "execution_count": 12,
   "id": "bf476549",
   "metadata": {
    "ExecuteTime": {
     "end_time": "2021-09-30T23:07:05.456302Z",
     "start_time": "2021-09-30T23:07:05.380472Z"
    }
   },
   "outputs": [],
   "source": [
    "df_bal_gby = df_bal_gby.assign(wt=df_bal_gby.groupby(['date', 'userid'])['value'].transform(lambda x: x/x.sum()))"
   ]
  },
  {
   "cell_type": "code",
   "execution_count": 13,
   "id": "b19d8928",
   "metadata": {
    "ExecuteTime": {
     "end_time": "2021-09-30T23:07:05.470231Z",
     "start_time": "2021-09-30T23:07:05.458263Z"
    }
   },
   "outputs": [],
   "source": [
    "df_bal_gby.date = df_bal_gby['date'].dt.strftime('%#m/%#d/%Y 4:%M:%S PM')\n",
    "# df_bal_gby.date = df_bal_gby['date'].dt.strftime('%-m/%-d/%Y 4:%M:%S PM')"
   ]
  },
  {
   "cell_type": "code",
   "execution_count": 14,
   "id": "f2532c30",
   "metadata": {
    "ExecuteTime": {
     "end_time": "2021-09-30T23:07:05.484194Z",
     "start_time": "2021-09-30T23:07:05.472226Z"
    }
   },
   "outputs": [
    {
     "data": {
      "text/html": [
       "<div>\n",
       "<style scoped>\n",
       "    .dataframe tbody tr th:only-of-type {\n",
       "        vertical-align: middle;\n",
       "    }\n",
       "\n",
       "    .dataframe tbody tr th {\n",
       "        vertical-align: top;\n",
       "    }\n",
       "\n",
       "    .dataframe thead th {\n",
       "        text-align: right;\n",
       "    }\n",
       "</style>\n",
       "<table border=\"1\" class=\"dataframe\">\n",
       "  <thead>\n",
       "    <tr style=\"text-align: right;\">\n",
       "      <th></th>\n",
       "      <th>date</th>\n",
       "      <th>userid</th>\n",
       "      <th>asset_class</th>\n",
       "      <th>value</th>\n",
       "      <th>wt</th>\n",
       "    </tr>\n",
       "  </thead>\n",
       "  <tbody>\n",
       "    <tr>\n",
       "      <th>0</th>\n",
       "      <td>9/2/2021 4:00:00 PM</td>\n",
       "      <td>A001</td>\n",
       "      <td>Alternative</td>\n",
       "      <td>12245.0</td>\n",
       "      <td>0.017128</td>\n",
       "    </tr>\n",
       "    <tr>\n",
       "      <th>1</th>\n",
       "      <td>9/2/2021 4:00:00 PM</td>\n",
       "      <td>A001</td>\n",
       "      <td>Cash</td>\n",
       "      <td>6210.0</td>\n",
       "      <td>0.008686</td>\n",
       "    </tr>\n",
       "    <tr>\n",
       "      <th>2</th>\n",
       "      <td>9/2/2021 4:00:00 PM</td>\n",
       "      <td>A001</td>\n",
       "      <td>Equity</td>\n",
       "      <td>62250.0</td>\n",
       "      <td>0.087073</td>\n",
       "    </tr>\n",
       "    <tr>\n",
       "      <th>3</th>\n",
       "      <td>9/2/2021 4:00:00 PM</td>\n",
       "      <td>A001</td>\n",
       "      <td>Fixed Income</td>\n",
       "      <td>634210.0</td>\n",
       "      <td>0.887112</td>\n",
       "    </tr>\n",
       "    <tr>\n",
       "      <th>4</th>\n",
       "      <td>9/2/2021 4:00:00 PM</td>\n",
       "      <td>A002</td>\n",
       "      <td>Alternative</td>\n",
       "      <td>24490.0</td>\n",
       "      <td>0.024369</td>\n",
       "    </tr>\n",
       "    <tr>\n",
       "      <th>...</th>\n",
       "      <td>...</td>\n",
       "      <td>...</td>\n",
       "      <td>...</td>\n",
       "      <td>...</td>\n",
       "      <td>...</td>\n",
       "    </tr>\n",
       "    <tr>\n",
       "      <th>1039</th>\n",
       "      <td>9/30/2021 4:00:00 PM</td>\n",
       "      <td>A008</td>\n",
       "      <td>Fixed Income</td>\n",
       "      <td>57760.0</td>\n",
       "      <td>0.059141</td>\n",
       "    </tr>\n",
       "    <tr>\n",
       "      <th>1040</th>\n",
       "      <td>9/30/2021 4:00:00 PM</td>\n",
       "      <td>A009</td>\n",
       "      <td>Alternative</td>\n",
       "      <td>328320.0</td>\n",
       "      <td>0.259307</td>\n",
       "    </tr>\n",
       "    <tr>\n",
       "      <th>1041</th>\n",
       "      <td>9/30/2021 4:00:00 PM</td>\n",
       "      <td>A009</td>\n",
       "      <td>Cash</td>\n",
       "      <td>2785.0</td>\n",
       "      <td>0.002200</td>\n",
       "    </tr>\n",
       "    <tr>\n",
       "      <th>1042</th>\n",
       "      <td>9/30/2021 4:00:00 PM</td>\n",
       "      <td>A009</td>\n",
       "      <td>Equity</td>\n",
       "      <td>877280.0</td>\n",
       "      <td>0.692875</td>\n",
       "    </tr>\n",
       "    <tr>\n",
       "      <th>1043</th>\n",
       "      <td>9/30/2021 4:00:00 PM</td>\n",
       "      <td>A009</td>\n",
       "      <td>Fixed Income</td>\n",
       "      <td>57760.0</td>\n",
       "      <td>0.045619</td>\n",
       "    </tr>\n",
       "  </tbody>\n",
       "</table>\n",
       "<p>1044 rows × 5 columns</p>\n",
       "</div>"
      ],
      "text/plain": [
       "                      date userid   asset_class     value        wt\n",
       "0      9/2/2021 4:00:00 PM   A001   Alternative   12245.0  0.017128\n",
       "1      9/2/2021 4:00:00 PM   A001          Cash    6210.0  0.008686\n",
       "2      9/2/2021 4:00:00 PM   A001        Equity   62250.0  0.087073\n",
       "3      9/2/2021 4:00:00 PM   A001  Fixed Income  634210.0  0.887112\n",
       "4      9/2/2021 4:00:00 PM   A002   Alternative   24490.0  0.024369\n",
       "...                    ...    ...           ...       ...       ...\n",
       "1039  9/30/2021 4:00:00 PM   A008  Fixed Income   57760.0  0.059141\n",
       "1040  9/30/2021 4:00:00 PM   A009   Alternative  328320.0  0.259307\n",
       "1041  9/30/2021 4:00:00 PM   A009          Cash    2785.0  0.002200\n",
       "1042  9/30/2021 4:00:00 PM   A009        Equity  877280.0  0.692875\n",
       "1043  9/30/2021 4:00:00 PM   A009  Fixed Income   57760.0  0.045619\n",
       "\n",
       "[1044 rows x 5 columns]"
      ]
     },
     "execution_count": 14,
     "metadata": {},
     "output_type": "execute_result"
    }
   ],
   "source": [
    "df_bal_gby"
   ]
  },
  {
   "cell_type": "code",
   "execution_count": 15,
   "id": "fb91792c",
   "metadata": {
    "ExecuteTime": {
     "end_time": "2021-09-30T23:07:07.104864Z",
     "start_time": "2021-09-30T23:07:05.486190Z"
    }
   },
   "outputs": [],
   "source": [
    "table_nm = 'general'\n",
    "df_bal_gby.to_sql(table_nm, con=cnx, index=False, if_exists='append')"
   ]
  },
  {
   "cell_type": "code",
   "execution_count": null,
   "id": "1bbf2471",
   "metadata": {},
   "outputs": [],
   "source": []
  }
 ],
 "metadata": {
  "kernelspec": {
   "display_name": "Python 3",
   "language": "python",
   "name": "python3"
  },
  "language_info": {
   "codemirror_mode": {
    "name": "ipython",
    "version": 3
   },
   "file_extension": ".py",
   "mimetype": "text/x-python",
   "name": "python",
   "nbconvert_exporter": "python",
   "pygments_lexer": "ipython3",
   "version": "3.8.8"
  }
 },
 "nbformat": 4,
 "nbformat_minor": 5
}
