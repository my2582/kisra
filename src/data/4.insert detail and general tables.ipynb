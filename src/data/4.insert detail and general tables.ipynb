{
 "cells": [
  {
   "cell_type": "code",
   "execution_count": 1,
   "id": "c7fc8398",
   "metadata": {
    "ExecuteTime": {
     "end_time": "2021-08-31T08:53:01.212773Z",
     "start_time": "2021-08-31T08:52:59.741778Z"
    }
   },
   "outputs": [],
   "source": [
    "import pandas as pd"
   ]
  },
  {
   "cell_type": "code",
   "execution_count": 20,
   "id": "84e046a9",
   "metadata": {
    "ExecuteTime": {
     "end_time": "2021-08-31T08:58:34.392297Z",
     "start_time": "2021-08-31T08:58:34.388308Z"
    }
   },
   "outputs": [],
   "source": [
    "import datetime as datetime"
   ]
  },
  {
   "cell_type": "code",
   "execution_count": 2,
   "id": "5936343f",
   "metadata": {
    "ExecuteTime": {
     "end_time": "2021-08-31T08:53:01.217756Z",
     "start_time": "2021-08-31T08:53:01.214764Z"
    }
   },
   "outputs": [],
   "source": [
    "access_path = '../../data/processed/'\n",
    "bal_file = 'bal_btw_rebal.dat'\n",
    "# bal_file = 'balance_rebaldate_0801_all.dat'"
   ]
  },
  {
   "cell_type": "markdown",
   "id": "97535736",
   "metadata": {},
   "source": [
    "#### 매일의 잔고(detail 테이블) INSERT"
   ]
  },
  {
   "cell_type": "code",
   "execution_count": 44,
   "id": "ebb2f9f2",
   "metadata": {
    "ExecuteTime": {
     "end_time": "2021-08-31T09:07:58.157819Z",
     "start_time": "2021-08-31T09:07:58.139867Z"
    }
   },
   "outputs": [],
   "source": [
    "df_bal = pd.read_csv(access_path+bal_file, parse_dates=['date'])"
   ]
  },
  {
   "cell_type": "code",
   "execution_count": 45,
   "id": "16851be0",
   "metadata": {
    "ExecuteTime": {
     "end_time": "2021-08-31T09:07:58.365251Z",
     "start_time": "2021-08-31T09:07:58.347300Z"
    }
   },
   "outputs": [
    {
     "data": {
      "text/html": [
       "<div>\n",
       "<style scoped>\n",
       "    .dataframe tbody tr th:only-of-type {\n",
       "        vertical-align: middle;\n",
       "    }\n",
       "\n",
       "    .dataframe tbody tr th {\n",
       "        vertical-align: top;\n",
       "    }\n",
       "\n",
       "    .dataframe thead th {\n",
       "        text-align: right;\n",
       "    }\n",
       "</style>\n",
       "<table border=\"1\" class=\"dataframe\">\n",
       "  <thead>\n",
       "    <tr style=\"text-align: right;\">\n",
       "      <th></th>\n",
       "      <th>date</th>\n",
       "      <th>itemcode</th>\n",
       "      <th>userid</th>\n",
       "      <th>name</th>\n",
       "      <th>asset_class</th>\n",
       "      <th>itemname</th>\n",
       "      <th>quantity</th>\n",
       "      <th>cost_price</th>\n",
       "      <th>cost_value</th>\n",
       "      <th>price</th>\n",
       "      <th>value</th>\n",
       "      <th>wt</th>\n",
       "      <th>group_by</th>\n",
       "      <th>original</th>\n",
       "    </tr>\n",
       "  </thead>\n",
       "  <tbody>\n",
       "    <tr>\n",
       "      <th>0</th>\n",
       "      <td>2021-08-02</td>\n",
       "      <td>A114260</td>\n",
       "      <td>A001</td>\n",
       "      <td>안정추구형소규모</td>\n",
       "      <td>Fixed Income</td>\n",
       "      <td>KODEX 국고채3년</td>\n",
       "      <td>2.0</td>\n",
       "      <td>58030.0</td>\n",
       "      <td>116060.0</td>\n",
       "      <td>58030.0</td>\n",
       "      <td>116060.0</td>\n",
       "      <td>0.162358</td>\n",
       "      <td>NaN</td>\n",
       "      <td>NaN</td>\n",
       "    </tr>\n",
       "    <tr>\n",
       "      <th>1</th>\n",
       "      <td>2021-08-02</td>\n",
       "      <td>A122260</td>\n",
       "      <td>A001</td>\n",
       "      <td>안정추구형소규모</td>\n",
       "      <td>Fixed Income</td>\n",
       "      <td>KOSEF 통안채1년</td>\n",
       "      <td>1.0</td>\n",
       "      <td>101240.0</td>\n",
       "      <td>101240.0</td>\n",
       "      <td>101230.0</td>\n",
       "      <td>101230.0</td>\n",
       "      <td>0.141612</td>\n",
       "      <td>NaN</td>\n",
       "      <td>NaN</td>\n",
       "    </tr>\n",
       "    <tr>\n",
       "      <th>2</th>\n",
       "      <td>2021-08-02</td>\n",
       "      <td>A130730</td>\n",
       "      <td>A001</td>\n",
       "      <td>안정추구형소규모</td>\n",
       "      <td>Fixed Income</td>\n",
       "      <td>KOSEF 단기자금</td>\n",
       "      <td>2.0</td>\n",
       "      <td>101140.0</td>\n",
       "      <td>202280.0</td>\n",
       "      <td>101145.0</td>\n",
       "      <td>202290.0</td>\n",
       "      <td>0.282986</td>\n",
       "      <td>NaN</td>\n",
       "      <td>NaN</td>\n",
       "    </tr>\n",
       "    <tr>\n",
       "      <th>3</th>\n",
       "      <td>2021-08-02</td>\n",
       "      <td>A196230</td>\n",
       "      <td>A001</td>\n",
       "      <td>안정추구형소규모</td>\n",
       "      <td>Fixed Income</td>\n",
       "      <td>KBSTAR 단기통안채</td>\n",
       "      <td>1.0</td>\n",
       "      <td>104495.0</td>\n",
       "      <td>104495.0</td>\n",
       "      <td>104500.0</td>\n",
       "      <td>104500.0</td>\n",
       "      <td>0.146187</td>\n",
       "      <td>NaN</td>\n",
       "      <td>NaN</td>\n",
       "    </tr>\n",
       "    <tr>\n",
       "      <th>4</th>\n",
       "      <td>2021-08-02</td>\n",
       "      <td>A273130</td>\n",
       "      <td>A001</td>\n",
       "      <td>안정추구형소규모</td>\n",
       "      <td>Fixed Income</td>\n",
       "      <td>KODEX 종합채권(AA-이상)액티브</td>\n",
       "      <td>1.0</td>\n",
       "      <td>109690.0</td>\n",
       "      <td>109690.0</td>\n",
       "      <td>109695.0</td>\n",
       "      <td>109695.0</td>\n",
       "      <td>0.153454</td>\n",
       "      <td>NaN</td>\n",
       "      <td>NaN</td>\n",
       "    </tr>\n",
       "    <tr>\n",
       "      <th>...</th>\n",
       "      <td>...</td>\n",
       "      <td>...</td>\n",
       "      <td>...</td>\n",
       "      <td>...</td>\n",
       "      <td>...</td>\n",
       "      <td>...</td>\n",
       "      <td>...</td>\n",
       "      <td>...</td>\n",
       "      <td>...</td>\n",
       "      <td>...</td>\n",
       "      <td>...</td>\n",
       "      <td>...</td>\n",
       "      <td>...</td>\n",
       "      <td>...</td>\n",
       "    </tr>\n",
       "    <tr>\n",
       "      <th>2155</th>\n",
       "      <td>2021-08-31</td>\n",
       "      <td>A237370</td>\n",
       "      <td>A009</td>\n",
       "      <td>적극투자형대규모</td>\n",
       "      <td>Alternative</td>\n",
       "      <td>KODEX 배당성장채권혼합</td>\n",
       "      <td>27.0</td>\n",
       "      <td>12165.0</td>\n",
       "      <td>328455.0</td>\n",
       "      <td>12130.0</td>\n",
       "      <td>327510.0</td>\n",
       "      <td>0.245409</td>\n",
       "      <td>NaN</td>\n",
       "      <td>NaN</td>\n",
       "    </tr>\n",
       "    <tr>\n",
       "      <th>2156</th>\n",
       "      <td>2021-08-31</td>\n",
       "      <td>A102780</td>\n",
       "      <td>A009</td>\n",
       "      <td>적극투자형대규모</td>\n",
       "      <td>Equity</td>\n",
       "      <td>KODEX 삼성그룹</td>\n",
       "      <td>17.0</td>\n",
       "      <td>10475.0</td>\n",
       "      <td>178075.0</td>\n",
       "      <td>10555.0</td>\n",
       "      <td>179435.0</td>\n",
       "      <td>0.134454</td>\n",
       "      <td>NaN</td>\n",
       "      <td>NaN</td>\n",
       "    </tr>\n",
       "    <tr>\n",
       "      <th>2157</th>\n",
       "      <td>2021-08-31</td>\n",
       "      <td>A069500</td>\n",
       "      <td>A009</td>\n",
       "      <td>적극투자형대규모</td>\n",
       "      <td>Equity</td>\n",
       "      <td>KODEX 200</td>\n",
       "      <td>3.0</td>\n",
       "      <td>42485.0</td>\n",
       "      <td>127455.0</td>\n",
       "      <td>41985.0</td>\n",
       "      <td>125955.0</td>\n",
       "      <td>0.094380</td>\n",
       "      <td>NaN</td>\n",
       "      <td>NaN</td>\n",
       "    </tr>\n",
       "    <tr>\n",
       "      <th>2158</th>\n",
       "      <td>2021-08-31</td>\n",
       "      <td>A114260</td>\n",
       "      <td>A009</td>\n",
       "      <td>적극투자형대규모</td>\n",
       "      <td>Fixed Income</td>\n",
       "      <td>KODEX 국고채3년</td>\n",
       "      <td>1.0</td>\n",
       "      <td>58030.0</td>\n",
       "      <td>58030.0</td>\n",
       "      <td>58140.0</td>\n",
       "      <td>58140.0</td>\n",
       "      <td>0.043565</td>\n",
       "      <td>NaN</td>\n",
       "      <td>NaN</td>\n",
       "    </tr>\n",
       "    <tr>\n",
       "      <th>2159</th>\n",
       "      <td>2021-08-31</td>\n",
       "      <td>C000001</td>\n",
       "      <td>A009</td>\n",
       "      <td>적극투자형대규모</td>\n",
       "      <td>Cash</td>\n",
       "      <td>현금</td>\n",
       "      <td>2785.0</td>\n",
       "      <td>1.0</td>\n",
       "      <td>2785.0</td>\n",
       "      <td>1.0</td>\n",
       "      <td>2785.0</td>\n",
       "      <td>0.002087</td>\n",
       "      <td>NaN</td>\n",
       "      <td>NaN</td>\n",
       "    </tr>\n",
       "  </tbody>\n",
       "</table>\n",
       "<p>2160 rows × 14 columns</p>\n",
       "</div>"
      ],
      "text/plain": [
       "           date itemcode userid      name   asset_class              itemname  \\\n",
       "0    2021-08-02  A114260   A001  안정추구형소규모  Fixed Income           KODEX 국고채3년   \n",
       "1    2021-08-02  A122260   A001  안정추구형소규모  Fixed Income           KOSEF 통안채1년   \n",
       "2    2021-08-02  A130730   A001  안정추구형소규모  Fixed Income            KOSEF 단기자금   \n",
       "3    2021-08-02  A196230   A001  안정추구형소규모  Fixed Income          KBSTAR 단기통안채   \n",
       "4    2021-08-02  A273130   A001  안정추구형소규모  Fixed Income  KODEX 종합채권(AA-이상)액티브   \n",
       "...         ...      ...    ...       ...           ...                   ...   \n",
       "2155 2021-08-31  A237370   A009  적극투자형대규모   Alternative        KODEX 배당성장채권혼합   \n",
       "2156 2021-08-31  A102780   A009  적극투자형대규모        Equity            KODEX 삼성그룹   \n",
       "2157 2021-08-31  A069500   A009  적극투자형대규모        Equity             KODEX 200   \n",
       "2158 2021-08-31  A114260   A009  적극투자형대규모  Fixed Income           KODEX 국고채3년   \n",
       "2159 2021-08-31  C000001   A009  적극투자형대규모          Cash                    현금   \n",
       "\n",
       "      quantity  cost_price  cost_value     price     value        wt  \\\n",
       "0          2.0     58030.0    116060.0   58030.0  116060.0  0.162358   \n",
       "1          1.0    101240.0    101240.0  101230.0  101230.0  0.141612   \n",
       "2          2.0    101140.0    202280.0  101145.0  202290.0  0.282986   \n",
       "3          1.0    104495.0    104495.0  104500.0  104500.0  0.146187   \n",
       "4          1.0    109690.0    109690.0  109695.0  109695.0  0.153454   \n",
       "...        ...         ...         ...       ...       ...       ...   \n",
       "2155      27.0     12165.0    328455.0   12130.0  327510.0  0.245409   \n",
       "2156      17.0     10475.0    178075.0   10555.0  179435.0  0.134454   \n",
       "2157       3.0     42485.0    127455.0   41985.0  125955.0  0.094380   \n",
       "2158       1.0     58030.0     58030.0   58140.0   58140.0  0.043565   \n",
       "2159    2785.0         1.0      2785.0       1.0    2785.0  0.002087   \n",
       "\n",
       "      group_by  original  \n",
       "0          NaN       NaN  \n",
       "1          NaN       NaN  \n",
       "2          NaN       NaN  \n",
       "3          NaN       NaN  \n",
       "4          NaN       NaN  \n",
       "...        ...       ...  \n",
       "2155       NaN       NaN  \n",
       "2156       NaN       NaN  \n",
       "2157       NaN       NaN  \n",
       "2158       NaN       NaN  \n",
       "2159       NaN       NaN  \n",
       "\n",
       "[2160 rows x 14 columns]"
      ]
     },
     "execution_count": 45,
     "metadata": {},
     "output_type": "execute_result"
    }
   ],
   "source": [
    "df_bal"
   ]
  },
  {
   "cell_type": "code",
   "execution_count": 55,
   "id": "32fb7683",
   "metadata": {
    "ExecuteTime": {
     "end_time": "2021-08-31T09:13:46.413329Z",
     "start_time": "2021-08-31T09:13:46.394374Z"
    },
    "code_folding": []
   },
   "outputs": [],
   "source": [
    "df_bal.date = df_bal['date'].dt.strftime('%#m/%#d/%Y 4:%M:%S PM')\n",
    "# df_bal.date = df_bal['date'].dt.strftime('%-m/%-d/%Y 4:%M:%S PM')"
   ]
  },
  {
   "cell_type": "code",
   "execution_count": 56,
   "id": "13f4492c",
   "metadata": {
    "ExecuteTime": {
     "end_time": "2021-08-31T09:13:46.794305Z",
     "start_time": "2021-08-31T09:13:46.788320Z"
    }
   },
   "outputs": [
    {
     "data": {
      "text/plain": [
       "0        8/2/2021 4:00:00 PM\n",
       "1        8/2/2021 4:00:00 PM\n",
       "2        8/2/2021 4:00:00 PM\n",
       "3        8/2/2021 4:00:00 PM\n",
       "4        8/2/2021 4:00:00 PM\n",
       "                ...         \n",
       "2155    8/31/2021 4:00:00 PM\n",
       "2156    8/31/2021 4:00:00 PM\n",
       "2157    8/31/2021 4:00:00 PM\n",
       "2158    8/31/2021 4:00:00 PM\n",
       "2159    8/31/2021 4:00:00 PM\n",
       "Name: date, Length: 2160, dtype: object"
      ]
     },
     "execution_count": 56,
     "metadata": {},
     "output_type": "execute_result"
    }
   ],
   "source": [
    "df_bal.date"
   ]
  },
  {
   "cell_type": "code",
   "execution_count": 57,
   "id": "bb2ab546",
   "metadata": {
    "ExecuteTime": {
     "end_time": "2021-08-31T09:13:49.767352Z",
     "start_time": "2021-08-31T09:13:49.762366Z"
    }
   },
   "outputs": [],
   "source": [
    "from sqlalchemy import create_engine\n",
    "\n",
    "# Defining our connection variables\n",
    "username = 'kdyjpzwsyqrqpb' # replace with your username\n",
    "password = '6b610da9417e361c2af3be1fd0c179061b5b258f0e6f7ff9e1da464ba221e46c' # replace with your password\n",
    "ipaddress = 'ec2-35-174-35-242.compute-1.amazonaws.com' # change this to your db’s IP address is if not Panoply\n",
    "port = 5432 # this is the standard port for Postgres, but change it to your port if needed\n",
    "dbname = 'd2ke5vkurjkusr' # change this to...you guessed it...the name of your db\n",
    "\n",
    "# A long string that contains the necessary Postgres login information\n",
    "postgres_str = f'postgresql://{username}:{password}@{ipaddress}:{port}/{dbname}'\n",
    "          \n",
    "# Create the connection\n",
    "cnx = create_engine(postgres_str)"
   ]
  },
  {
   "cell_type": "code",
   "execution_count": 58,
   "id": "e8e43fba",
   "metadata": {
    "ExecuteTime": {
     "end_time": "2021-08-31T09:13:56.536248Z",
     "start_time": "2021-08-31T09:13:50.282973Z"
    }
   },
   "outputs": [],
   "source": [
    "table_nm = 'detail'\n",
    "df_bal.to_sql(table_nm, con=cnx, index=False, if_exists='append')"
   ]
  },
  {
   "cell_type": "markdown",
   "id": "05de1469",
   "metadata": {},
   "source": [
    "### 자산군별 비중(general 테이블) INSERT"
   ]
  },
  {
   "cell_type": "code",
   "execution_count": 59,
   "id": "ccdb12e9",
   "metadata": {
    "ExecuteTime": {
     "end_time": "2021-08-31T09:14:44.361666Z",
     "start_time": "2021-08-31T09:14:44.337730Z"
    }
   },
   "outputs": [],
   "source": [
    "df_bal = pd.read_csv(access_path+bal_file, parse_dates=['date'])"
   ]
  },
  {
   "cell_type": "code",
   "execution_count": 60,
   "id": "72f4db17",
   "metadata": {
    "ExecuteTime": {
     "end_time": "2021-08-31T09:14:44.589058Z",
     "start_time": "2021-08-31T09:14:44.579085Z"
    }
   },
   "outputs": [],
   "source": [
    "df_bal_gby = df_bal.loc[:, ['date', 'userid', 'value', 'asset_class']].sort_values(\n",
    "    ['date', 'userid'],\n",
    "    ascending=True).groupby(['date', 'userid', 'asset_class'\n",
    "                             ]).sum().reset_index(drop=False)"
   ]
  },
  {
   "cell_type": "code",
   "execution_count": 61,
   "id": "bf476549",
   "metadata": {
    "ExecuteTime": {
     "end_time": "2021-08-31T09:14:45.096703Z",
     "start_time": "2021-08-31T09:14:45.025890Z"
    }
   },
   "outputs": [],
   "source": [
    "df_bal_gby = df_bal_gby.assign(wt=df_bal_gby.groupby(['date', 'userid'])['value'].transform(lambda x: x/x.sum()))"
   ]
  },
  {
   "cell_type": "code",
   "execution_count": 62,
   "id": "b19d8928",
   "metadata": {
    "ExecuteTime": {
     "end_time": "2021-08-31T09:14:49.141881Z",
     "start_time": "2021-08-31T09:14:49.129912Z"
    }
   },
   "outputs": [],
   "source": [
    "df_bal_gby.date = df_bal_gby['date'].dt.strftime('%#m/%#d/%Y 4:%M:%S PM')\n",
    "# df_bal_gby.date = df_bal_gby['date'].dt.strftime('%-m/%-d/%Y 4:%M:%S PM')"
   ]
  },
  {
   "cell_type": "code",
   "execution_count": 63,
   "id": "f2532c30",
   "metadata": {
    "ExecuteTime": {
     "end_time": "2021-08-31T09:14:51.126572Z",
     "start_time": "2021-08-31T09:14:51.114604Z"
    }
   },
   "outputs": [
    {
     "data": {
      "text/html": [
       "<div>\n",
       "<style scoped>\n",
       "    .dataframe tbody tr th:only-of-type {\n",
       "        vertical-align: middle;\n",
       "    }\n",
       "\n",
       "    .dataframe tbody tr th {\n",
       "        vertical-align: top;\n",
       "    }\n",
       "\n",
       "    .dataframe thead th {\n",
       "        text-align: right;\n",
       "    }\n",
       "</style>\n",
       "<table border=\"1\" class=\"dataframe\">\n",
       "  <thead>\n",
       "    <tr style=\"text-align: right;\">\n",
       "      <th></th>\n",
       "      <th>date</th>\n",
       "      <th>userid</th>\n",
       "      <th>asset_class</th>\n",
       "      <th>value</th>\n",
       "      <th>wt</th>\n",
       "    </tr>\n",
       "  </thead>\n",
       "  <tbody>\n",
       "    <tr>\n",
       "      <th>0</th>\n",
       "      <td>8/2/2021 4:00:00 PM</td>\n",
       "      <td>A001</td>\n",
       "      <td>Alternative</td>\n",
       "      <td>12150.0</td>\n",
       "      <td>0.016997</td>\n",
       "    </tr>\n",
       "    <tr>\n",
       "      <th>1</th>\n",
       "      <td>8/2/2021 4:00:00 PM</td>\n",
       "      <td>A001</td>\n",
       "      <td>Cash</td>\n",
       "      <td>6210.0</td>\n",
       "      <td>0.008687</td>\n",
       "    </tr>\n",
       "    <tr>\n",
       "      <th>2</th>\n",
       "      <td>8/2/2021 4:00:00 PM</td>\n",
       "      <td>A001</td>\n",
       "      <td>Equity</td>\n",
       "      <td>62705.0</td>\n",
       "      <td>0.087719</td>\n",
       "    </tr>\n",
       "    <tr>\n",
       "      <th>3</th>\n",
       "      <td>8/2/2021 4:00:00 PM</td>\n",
       "      <td>A001</td>\n",
       "      <td>Fixed Income</td>\n",
       "      <td>633775.0</td>\n",
       "      <td>0.886597</td>\n",
       "    </tr>\n",
       "    <tr>\n",
       "      <th>4</th>\n",
       "      <td>8/2/2021 4:00:00 PM</td>\n",
       "      <td>A002</td>\n",
       "      <td>Alternative</td>\n",
       "      <td>24300.0</td>\n",
       "      <td>0.024176</td>\n",
       "    </tr>\n",
       "    <tr>\n",
       "      <th>...</th>\n",
       "      <td>...</td>\n",
       "      <td>...</td>\n",
       "      <td>...</td>\n",
       "      <td>...</td>\n",
       "      <td>...</td>\n",
       "    </tr>\n",
       "    <tr>\n",
       "      <th>1075</th>\n",
       "      <td>8/31/2021 4:00:00 PM</td>\n",
       "      <td>A008</td>\n",
       "      <td>Fixed Income</td>\n",
       "      <td>58140.0</td>\n",
       "      <td>0.056539</td>\n",
       "    </tr>\n",
       "    <tr>\n",
       "      <th>1076</th>\n",
       "      <td>8/31/2021 4:00:00 PM</td>\n",
       "      <td>A009</td>\n",
       "      <td>Alternative</td>\n",
       "      <td>327510.0</td>\n",
       "      <td>0.245409</td>\n",
       "    </tr>\n",
       "    <tr>\n",
       "      <th>1077</th>\n",
       "      <td>8/31/2021 4:00:00 PM</td>\n",
       "      <td>A009</td>\n",
       "      <td>Cash</td>\n",
       "      <td>2785.0</td>\n",
       "      <td>0.002087</td>\n",
       "    </tr>\n",
       "    <tr>\n",
       "      <th>1078</th>\n",
       "      <td>8/31/2021 4:00:00 PM</td>\n",
       "      <td>A009</td>\n",
       "      <td>Equity</td>\n",
       "      <td>946115.0</td>\n",
       "      <td>0.708939</td>\n",
       "    </tr>\n",
       "    <tr>\n",
       "      <th>1079</th>\n",
       "      <td>8/31/2021 4:00:00 PM</td>\n",
       "      <td>A009</td>\n",
       "      <td>Fixed Income</td>\n",
       "      <td>58140.0</td>\n",
       "      <td>0.043565</td>\n",
       "    </tr>\n",
       "  </tbody>\n",
       "</table>\n",
       "<p>1080 rows × 5 columns</p>\n",
       "</div>"
      ],
      "text/plain": [
       "                      date userid   asset_class     value        wt\n",
       "0      8/2/2021 4:00:00 PM   A001   Alternative   12150.0  0.016997\n",
       "1      8/2/2021 4:00:00 PM   A001          Cash    6210.0  0.008687\n",
       "2      8/2/2021 4:00:00 PM   A001        Equity   62705.0  0.087719\n",
       "3      8/2/2021 4:00:00 PM   A001  Fixed Income  633775.0  0.886597\n",
       "4      8/2/2021 4:00:00 PM   A002   Alternative   24300.0  0.024176\n",
       "...                    ...    ...           ...       ...       ...\n",
       "1075  8/31/2021 4:00:00 PM   A008  Fixed Income   58140.0  0.056539\n",
       "1076  8/31/2021 4:00:00 PM   A009   Alternative  327510.0  0.245409\n",
       "1077  8/31/2021 4:00:00 PM   A009          Cash    2785.0  0.002087\n",
       "1078  8/31/2021 4:00:00 PM   A009        Equity  946115.0  0.708939\n",
       "1079  8/31/2021 4:00:00 PM   A009  Fixed Income   58140.0  0.043565\n",
       "\n",
       "[1080 rows x 5 columns]"
      ]
     },
     "execution_count": 63,
     "metadata": {},
     "output_type": "execute_result"
    }
   ],
   "source": [
    "df_bal_gby"
   ]
  },
  {
   "cell_type": "code",
   "execution_count": 64,
   "id": "fb91792c",
   "metadata": {
    "ExecuteTime": {
     "end_time": "2021-08-31T09:14:59.332709Z",
     "start_time": "2021-08-31T09:14:57.705975Z"
    }
   },
   "outputs": [],
   "source": [
    "table_nm = 'general'\n",
    "df_bal_gby.to_sql(table_nm, con=cnx, index=False, if_exists='append')"
   ]
  },
  {
   "cell_type": "code",
   "execution_count": null,
   "id": "1bbf2471",
   "metadata": {},
   "outputs": [],
   "source": []
  }
 ],
 "metadata": {
  "kernelspec": {
   "display_name": "Python 3",
   "language": "python",
   "name": "python3"
  },
  "language_info": {
   "codemirror_mode": {
    "name": "ipython",
    "version": 3
   },
   "file_extension": ".py",
   "mimetype": "text/x-python",
   "name": "python",
   "nbconvert_exporter": "python",
   "pygments_lexer": "ipython3",
   "version": "3.8.8"
  }
 },
 "nbformat": 4,
 "nbformat_minor": 5
}
