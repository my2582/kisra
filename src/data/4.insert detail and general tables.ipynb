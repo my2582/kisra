{
 "cells": [
  {
   "cell_type": "code",
   "execution_count": 1,
   "id": "c7fc8398",
   "metadata": {
    "ExecuteTime": {
     "end_time": "2021-10-06T07:43:30.197221Z",
     "start_time": "2021-10-06T07:43:28.493909Z"
    }
   },
   "outputs": [],
   "source": [
    "import pandas as pd"
   ]
  },
  {
   "cell_type": "code",
   "execution_count": 2,
   "id": "84e046a9",
   "metadata": {
    "ExecuteTime": {
     "end_time": "2021-10-06T07:43:30.203205Z",
     "start_time": "2021-10-06T07:43:30.199215Z"
    }
   },
   "outputs": [],
   "source": [
    "import datetime as datetime"
   ]
  },
  {
   "cell_type": "code",
   "execution_count": 3,
   "id": "5936343f",
   "metadata": {
    "ExecuteTime": {
     "end_time": "2021-10-06T07:43:30.212180Z",
     "start_time": "2021-10-06T07:43:30.205199Z"
    }
   },
   "outputs": [],
   "source": [
    "access_path = '../../data/processed/'\n",
    "bal_file = 'bal_btw_rebal.dat'\n",
    "# bal_file = 'balance_rebaldate_0930_all.dat'"
   ]
  },
  {
   "cell_type": "markdown",
   "id": "97535736",
   "metadata": {},
   "source": [
    "#### 매일의 잔고(detail 테이블) INSERT"
   ]
  },
  {
   "cell_type": "code",
   "execution_count": 4,
   "id": "ebb2f9f2",
   "metadata": {
    "ExecuteTime": {
     "end_time": "2021-10-06T07:43:30.503379Z",
     "start_time": "2021-10-06T07:43:30.485428Z"
    }
   },
   "outputs": [],
   "source": [
    "df_bal = pd.read_csv(access_path+bal_file, parse_dates=['date'])"
   ]
  },
  {
   "cell_type": "code",
   "execution_count": 5,
   "id": "16851be0",
   "metadata": {
    "ExecuteTime": {
     "end_time": "2021-10-06T07:43:30.855410Z",
     "start_time": "2021-10-06T07:43:30.828484Z"
    }
   },
   "outputs": [
    {
     "data": {
      "text/html": [
       "<div>\n",
       "<style scoped>\n",
       "    .dataframe tbody tr th:only-of-type {\n",
       "        vertical-align: middle;\n",
       "    }\n",
       "\n",
       "    .dataframe tbody tr th {\n",
       "        vertical-align: top;\n",
       "    }\n",
       "\n",
       "    .dataframe thead th {\n",
       "        text-align: right;\n",
       "    }\n",
       "</style>\n",
       "<table border=\"1\" class=\"dataframe\">\n",
       "  <thead>\n",
       "    <tr style=\"text-align: right;\">\n",
       "      <th></th>\n",
       "      <th>date</th>\n",
       "      <th>itemcode</th>\n",
       "      <th>userid</th>\n",
       "      <th>name</th>\n",
       "      <th>asset_class</th>\n",
       "      <th>itemname</th>\n",
       "      <th>quantity</th>\n",
       "      <th>cost_price</th>\n",
       "      <th>cost_value</th>\n",
       "      <th>price</th>\n",
       "      <th>value</th>\n",
       "      <th>wt</th>\n",
       "      <th>group_by</th>\n",
       "      <th>original</th>\n",
       "    </tr>\n",
       "  </thead>\n",
       "  <tbody>\n",
       "    <tr>\n",
       "      <th>0</th>\n",
       "      <td>2021-10-02</td>\n",
       "      <td>A114260</td>\n",
       "      <td>A001</td>\n",
       "      <td>안정추구형소규모</td>\n",
       "      <td>Fixed Income</td>\n",
       "      <td>KODEX 국고채3년</td>\n",
       "      <td>2.0</td>\n",
       "      <td>57760.0</td>\n",
       "      <td>115520.0</td>\n",
       "      <td>57675.0</td>\n",
       "      <td>115350.0</td>\n",
       "      <td>0.162528</td>\n",
       "      <td>NaN</td>\n",
       "      <td>NaN</td>\n",
       "    </tr>\n",
       "    <tr>\n",
       "      <th>1</th>\n",
       "      <td>2021-10-02</td>\n",
       "      <td>A122260</td>\n",
       "      <td>A001</td>\n",
       "      <td>안정추구형소규모</td>\n",
       "      <td>Fixed Income</td>\n",
       "      <td>KOSEF 통안채1년</td>\n",
       "      <td>1.0</td>\n",
       "      <td>101265.0</td>\n",
       "      <td>101265.0</td>\n",
       "      <td>101265.0</td>\n",
       "      <td>101265.0</td>\n",
       "      <td>0.142682</td>\n",
       "      <td>NaN</td>\n",
       "      <td>NaN</td>\n",
       "    </tr>\n",
       "    <tr>\n",
       "      <th>2</th>\n",
       "      <td>2021-10-02</td>\n",
       "      <td>A130730</td>\n",
       "      <td>A001</td>\n",
       "      <td>안정추구형소규모</td>\n",
       "      <td>Fixed Income</td>\n",
       "      <td>KOSEF 단기자금</td>\n",
       "      <td>2.0</td>\n",
       "      <td>101245.0</td>\n",
       "      <td>202490.0</td>\n",
       "      <td>101245.0</td>\n",
       "      <td>202490.0</td>\n",
       "      <td>0.285308</td>\n",
       "      <td>NaN</td>\n",
       "      <td>NaN</td>\n",
       "    </tr>\n",
       "    <tr>\n",
       "      <th>3</th>\n",
       "      <td>2021-10-02</td>\n",
       "      <td>A196230</td>\n",
       "      <td>A001</td>\n",
       "      <td>안정추구형소규모</td>\n",
       "      <td>Fixed Income</td>\n",
       "      <td>KBSTAR 단기통안채</td>\n",
       "      <td>1.0</td>\n",
       "      <td>104605.0</td>\n",
       "      <td>104605.0</td>\n",
       "      <td>104610.0</td>\n",
       "      <td>104610.0</td>\n",
       "      <td>0.147395</td>\n",
       "      <td>NaN</td>\n",
       "      <td>NaN</td>\n",
       "    </tr>\n",
       "    <tr>\n",
       "      <th>4</th>\n",
       "      <td>2021-10-02</td>\n",
       "      <td>A273130</td>\n",
       "      <td>A001</td>\n",
       "      <td>안정추구형소규모</td>\n",
       "      <td>Fixed Income</td>\n",
       "      <td>KODEX 종합채권(AA-이상)액티브</td>\n",
       "      <td>1.0</td>\n",
       "      <td>108380.0</td>\n",
       "      <td>108380.0</td>\n",
       "      <td>108350.0</td>\n",
       "      <td>108350.0</td>\n",
       "      <td>0.152665</td>\n",
       "      <td>NaN</td>\n",
       "      <td>NaN</td>\n",
       "    </tr>\n",
       "    <tr>\n",
       "      <th>...</th>\n",
       "      <td>...</td>\n",
       "      <td>...</td>\n",
       "      <td>...</td>\n",
       "      <td>...</td>\n",
       "      <td>...</td>\n",
       "      <td>...</td>\n",
       "      <td>...</td>\n",
       "      <td>...</td>\n",
       "      <td>...</td>\n",
       "      <td>...</td>\n",
       "      <td>...</td>\n",
       "      <td>...</td>\n",
       "      <td>...</td>\n",
       "      <td>...</td>\n",
       "    </tr>\n",
       "    <tr>\n",
       "      <th>355</th>\n",
       "      <td>2021-10-06</td>\n",
       "      <td>A278540</td>\n",
       "      <td>A009</td>\n",
       "      <td>적극투자형대규모</td>\n",
       "      <td>Equity</td>\n",
       "      <td>KODEX MSCI Korea TR</td>\n",
       "      <td>23.0</td>\n",
       "      <td>12875.0</td>\n",
       "      <td>296125.0</td>\n",
       "      <td>12230.0</td>\n",
       "      <td>281290.0</td>\n",
       "      <td>0.230414</td>\n",
       "      <td>NaN</td>\n",
       "      <td>NaN</td>\n",
       "    </tr>\n",
       "    <tr>\n",
       "      <th>356</th>\n",
       "      <td>2021-10-06</td>\n",
       "      <td>A102780</td>\n",
       "      <td>A009</td>\n",
       "      <td>적극투자형대규모</td>\n",
       "      <td>Equity</td>\n",
       "      <td>KODEX 삼성그룹</td>\n",
       "      <td>17.0</td>\n",
       "      <td>10075.0</td>\n",
       "      <td>171275.0</td>\n",
       "      <td>9580.0</td>\n",
       "      <td>162860.0</td>\n",
       "      <td>0.133404</td>\n",
       "      <td>NaN</td>\n",
       "      <td>NaN</td>\n",
       "    </tr>\n",
       "    <tr>\n",
       "      <th>357</th>\n",
       "      <td>2021-10-06</td>\n",
       "      <td>A069500</td>\n",
       "      <td>A009</td>\n",
       "      <td>적극투자형대규모</td>\n",
       "      <td>Equity</td>\n",
       "      <td>KODEX 200</td>\n",
       "      <td>3.0</td>\n",
       "      <td>40195.0</td>\n",
       "      <td>120585.0</td>\n",
       "      <td>38260.0</td>\n",
       "      <td>114780.0</td>\n",
       "      <td>0.094020</td>\n",
       "      <td>NaN</td>\n",
       "      <td>NaN</td>\n",
       "    </tr>\n",
       "    <tr>\n",
       "      <th>358</th>\n",
       "      <td>2021-10-06</td>\n",
       "      <td>A114260</td>\n",
       "      <td>A009</td>\n",
       "      <td>적극투자형대규모</td>\n",
       "      <td>Fixed Income</td>\n",
       "      <td>KODEX 국고채3년</td>\n",
       "      <td>1.0</td>\n",
       "      <td>57760.0</td>\n",
       "      <td>57760.0</td>\n",
       "      <td>57515.0</td>\n",
       "      <td>57515.0</td>\n",
       "      <td>0.047112</td>\n",
       "      <td>NaN</td>\n",
       "      <td>NaN</td>\n",
       "    </tr>\n",
       "    <tr>\n",
       "      <th>359</th>\n",
       "      <td>2021-10-06</td>\n",
       "      <td>C000001</td>\n",
       "      <td>A009</td>\n",
       "      <td>적극투자형대규모</td>\n",
       "      <td>Cash</td>\n",
       "      <td>현금</td>\n",
       "      <td>7460.0</td>\n",
       "      <td>1.0</td>\n",
       "      <td>7460.0</td>\n",
       "      <td>1.0</td>\n",
       "      <td>7460.0</td>\n",
       "      <td>0.006111</td>\n",
       "      <td>NaN</td>\n",
       "      <td>NaN</td>\n",
       "    </tr>\n",
       "  </tbody>\n",
       "</table>\n",
       "<p>360 rows × 14 columns</p>\n",
       "</div>"
      ],
      "text/plain": [
       "          date itemcode userid      name   asset_class              itemname  \\\n",
       "0   2021-10-02  A114260   A001  안정추구형소규모  Fixed Income           KODEX 국고채3년   \n",
       "1   2021-10-02  A122260   A001  안정추구형소규모  Fixed Income           KOSEF 통안채1년   \n",
       "2   2021-10-02  A130730   A001  안정추구형소규모  Fixed Income            KOSEF 단기자금   \n",
       "3   2021-10-02  A196230   A001  안정추구형소규모  Fixed Income          KBSTAR 단기통안채   \n",
       "4   2021-10-02  A273130   A001  안정추구형소규모  Fixed Income  KODEX 종합채권(AA-이상)액티브   \n",
       "..         ...      ...    ...       ...           ...                   ...   \n",
       "355 2021-10-06  A278540   A009  적극투자형대규모        Equity   KODEX MSCI Korea TR   \n",
       "356 2021-10-06  A102780   A009  적극투자형대규모        Equity            KODEX 삼성그룹   \n",
       "357 2021-10-06  A069500   A009  적극투자형대규모        Equity             KODEX 200   \n",
       "358 2021-10-06  A114260   A009  적극투자형대규모  Fixed Income           KODEX 국고채3년   \n",
       "359 2021-10-06  C000001   A009  적극투자형대규모          Cash                    현금   \n",
       "\n",
       "     quantity  cost_price  cost_value     price     value        wt  group_by  \\\n",
       "0         2.0     57760.0    115520.0   57675.0  115350.0  0.162528       NaN   \n",
       "1         1.0    101265.0    101265.0  101265.0  101265.0  0.142682       NaN   \n",
       "2         2.0    101245.0    202490.0  101245.0  202490.0  0.285308       NaN   \n",
       "3         1.0    104605.0    104605.0  104610.0  104610.0  0.147395       NaN   \n",
       "4         1.0    108380.0    108380.0  108350.0  108350.0  0.152665       NaN   \n",
       "..        ...         ...         ...       ...       ...       ...       ...   \n",
       "355      23.0     12875.0    296125.0   12230.0  281290.0  0.230414       NaN   \n",
       "356      17.0     10075.0    171275.0    9580.0  162860.0  0.133404       NaN   \n",
       "357       3.0     40195.0    120585.0   38260.0  114780.0  0.094020       NaN   \n",
       "358       1.0     57760.0     57760.0   57515.0   57515.0  0.047112       NaN   \n",
       "359    7460.0         1.0      7460.0       1.0    7460.0  0.006111       NaN   \n",
       "\n",
       "     original  \n",
       "0         NaN  \n",
       "1         NaN  \n",
       "2         NaN  \n",
       "3         NaN  \n",
       "4         NaN  \n",
       "..        ...  \n",
       "355       NaN  \n",
       "356       NaN  \n",
       "357       NaN  \n",
       "358       NaN  \n",
       "359       NaN  \n",
       "\n",
       "[360 rows x 14 columns]"
      ]
     },
     "execution_count": 5,
     "metadata": {},
     "output_type": "execute_result"
    }
   ],
   "source": [
    "df_bal"
   ]
  },
  {
   "cell_type": "code",
   "execution_count": 6,
   "id": "32fb7683",
   "metadata": {
    "ExecuteTime": {
     "end_time": "2021-10-06T07:43:37.282720Z",
     "start_time": "2021-10-06T07:43:37.275739Z"
    },
    "code_folding": []
   },
   "outputs": [],
   "source": [
    "df_bal.date = df_bal['date'].dt.strftime('%#m/%#d/%Y 4:%M:%S PM')\n",
    "# df_bal.date = df_bal['date'].dt.strftime('%-m/%-d/%Y 4:%M:%S PM')"
   ]
  },
  {
   "cell_type": "code",
   "execution_count": 7,
   "id": "13f4492c",
   "metadata": {
    "ExecuteTime": {
     "end_time": "2021-10-06T07:43:37.586883Z",
     "start_time": "2021-10-06T07:43:37.579902Z"
    }
   },
   "outputs": [
    {
     "data": {
      "text/plain": [
       "0      10/2/2021 4:00:00 PM\n",
       "1      10/2/2021 4:00:00 PM\n",
       "2      10/2/2021 4:00:00 PM\n",
       "3      10/2/2021 4:00:00 PM\n",
       "4      10/2/2021 4:00:00 PM\n",
       "               ...         \n",
       "355    10/6/2021 4:00:00 PM\n",
       "356    10/6/2021 4:00:00 PM\n",
       "357    10/6/2021 4:00:00 PM\n",
       "358    10/6/2021 4:00:00 PM\n",
       "359    10/6/2021 4:00:00 PM\n",
       "Name: date, Length: 360, dtype: object"
      ]
     },
     "execution_count": 7,
     "metadata": {},
     "output_type": "execute_result"
    }
   ],
   "source": [
    "df_bal.date"
   ]
  },
  {
   "cell_type": "code",
   "execution_count": 8,
   "id": "bb2ab546",
   "metadata": {
    "ExecuteTime": {
     "end_time": "2021-10-06T07:43:42.065556Z",
     "start_time": "2021-10-06T07:43:40.587624Z"
    }
   },
   "outputs": [],
   "source": [
    "from sqlalchemy import create_engine\n",
    "\n",
    "# Defining our connection variables\n",
    "username = 'kdyjpzwsyqrqpb' # replace with your username\n",
    "password = '6b610da9417e361c2af3be1fd0c179061b5b258f0e6f7ff9e1da464ba221e46c' # replace with your password\n",
    "ipaddress = 'ec2-35-174-35-242.compute-1.amazonaws.com' # change this to your db’s IP address is if not Panoply\n",
    "port = 5432 # this is the standard port for Postgres, but change it to your port if needed\n",
    "dbname = 'd2ke5vkurjkusr' # change this to...you guessed it...the name of your db\n",
    "\n",
    "# A long string that contains the necessary Postgres login information\n",
    "postgres_str = f'postgresql://{username}:{password}@{ipaddress}:{port}/{dbname}'\n",
    "          \n",
    "# Create the connection\n",
    "cnx = create_engine(postgres_str)"
   ]
  },
  {
   "cell_type": "code",
   "execution_count": 9,
   "id": "e8e43fba",
   "metadata": {
    "ExecuteTime": {
     "end_time": "2021-10-06T07:43:46.775620Z",
     "start_time": "2021-10-06T07:43:42.067550Z"
    }
   },
   "outputs": [],
   "source": [
    "table_nm = 'detail'\n",
    "df_bal.to_sql(table_nm, con=cnx, index=False, if_exists='append')"
   ]
  },
  {
   "cell_type": "markdown",
   "id": "05de1469",
   "metadata": {},
   "source": [
    "### 자산군별 비중(general 테이블) INSERT"
   ]
  },
  {
   "cell_type": "code",
   "execution_count": 10,
   "id": "ccdb12e9",
   "metadata": {
    "ExecuteTime": {
     "end_time": "2021-10-06T07:43:46.792546Z",
     "start_time": "2021-10-06T07:43:46.776590Z"
    }
   },
   "outputs": [],
   "source": [
    "df_bal = pd.read_csv(access_path+bal_file, parse_dates=['date'])"
   ]
  },
  {
   "cell_type": "code",
   "execution_count": 11,
   "id": "72f4db17",
   "metadata": {
    "ExecuteTime": {
     "end_time": "2021-10-06T07:43:46.806507Z",
     "start_time": "2021-10-06T07:43:46.794540Z"
    }
   },
   "outputs": [],
   "source": [
    "df_bal_gby = df_bal.loc[:, ['date', 'userid', 'value', 'asset_class']].sort_values(\n",
    "    ['date', 'userid'],\n",
    "    ascending=True).groupby(['date', 'userid', 'asset_class'\n",
    "                             ]).sum().reset_index(drop=False)"
   ]
  },
  {
   "cell_type": "code",
   "execution_count": 12,
   "id": "bf476549",
   "metadata": {
    "ExecuteTime": {
     "end_time": "2021-10-06T07:43:46.833434Z",
     "start_time": "2021-10-06T07:43:46.807505Z"
    }
   },
   "outputs": [],
   "source": [
    "df_bal_gby = df_bal_gby.assign(wt=df_bal_gby.groupby(['date', 'userid'])['value'].transform(lambda x: x/x.sum()))"
   ]
  },
  {
   "cell_type": "code",
   "execution_count": 13,
   "id": "b19d8928",
   "metadata": {
    "ExecuteTime": {
     "end_time": "2021-10-06T07:43:46.840414Z",
     "start_time": "2021-10-06T07:43:46.835427Z"
    }
   },
   "outputs": [],
   "source": [
    "df_bal_gby.date = df_bal_gby['date'].dt.strftime('%#m/%#d/%Y 4:%M:%S PM')\n",
    "# df_bal_gby.date = df_bal_gby['date'].dt.strftime('%-m/%-d/%Y 4:%M:%S PM')"
   ]
  },
  {
   "cell_type": "code",
   "execution_count": 14,
   "id": "f2532c30",
   "metadata": {
    "ExecuteTime": {
     "end_time": "2021-10-06T07:43:46.858364Z",
     "start_time": "2021-10-06T07:43:46.841411Z"
    }
   },
   "outputs": [
    {
     "data": {
      "text/html": [
       "<div>\n",
       "<style scoped>\n",
       "    .dataframe tbody tr th:only-of-type {\n",
       "        vertical-align: middle;\n",
       "    }\n",
       "\n",
       "    .dataframe tbody tr th {\n",
       "        vertical-align: top;\n",
       "    }\n",
       "\n",
       "    .dataframe thead th {\n",
       "        text-align: right;\n",
       "    }\n",
       "</style>\n",
       "<table border=\"1\" class=\"dataframe\">\n",
       "  <thead>\n",
       "    <tr style=\"text-align: right;\">\n",
       "      <th></th>\n",
       "      <th>date</th>\n",
       "      <th>userid</th>\n",
       "      <th>asset_class</th>\n",
       "      <th>value</th>\n",
       "      <th>wt</th>\n",
       "    </tr>\n",
       "  </thead>\n",
       "  <tbody>\n",
       "    <tr>\n",
       "      <th>0</th>\n",
       "      <td>10/2/2021 4:00:00 PM</td>\n",
       "      <td>A001</td>\n",
       "      <td>Alternative</td>\n",
       "      <td>12130.0</td>\n",
       "      <td>0.017091</td>\n",
       "    </tr>\n",
       "    <tr>\n",
       "      <th>1</th>\n",
       "      <td>10/2/2021 4:00:00 PM</td>\n",
       "      <td>A001</td>\n",
       "      <td>Cash</td>\n",
       "      <td>6210.0</td>\n",
       "      <td>0.008750</td>\n",
       "    </tr>\n",
       "    <tr>\n",
       "      <th>2</th>\n",
       "      <td>10/2/2021 4:00:00 PM</td>\n",
       "      <td>A001</td>\n",
       "      <td>Equity</td>\n",
       "      <td>59320.0</td>\n",
       "      <td>0.083582</td>\n",
       "    </tr>\n",
       "    <tr>\n",
       "      <th>3</th>\n",
       "      <td>10/2/2021 4:00:00 PM</td>\n",
       "      <td>A001</td>\n",
       "      <td>Fixed Income</td>\n",
       "      <td>632065.0</td>\n",
       "      <td>0.890577</td>\n",
       "    </tr>\n",
       "    <tr>\n",
       "      <th>4</th>\n",
       "      <td>10/2/2021 4:00:00 PM</td>\n",
       "      <td>A002</td>\n",
       "      <td>Alternative</td>\n",
       "      <td>24260.0</td>\n",
       "      <td>0.024359</td>\n",
       "    </tr>\n",
       "    <tr>\n",
       "      <th>...</th>\n",
       "      <td>...</td>\n",
       "      <td>...</td>\n",
       "      <td>...</td>\n",
       "      <td>...</td>\n",
       "      <td>...</td>\n",
       "    </tr>\n",
       "    <tr>\n",
       "      <th>175</th>\n",
       "      <td>10/6/2021 4:00:00 PM</td>\n",
       "      <td>A008</td>\n",
       "      <td>Fixed Income</td>\n",
       "      <td>57515.0</td>\n",
       "      <td>0.061061</td>\n",
       "    </tr>\n",
       "    <tr>\n",
       "      <th>176</th>\n",
       "      <td>10/6/2021 4:00:00 PM</td>\n",
       "      <td>A009</td>\n",
       "      <td>Alternative</td>\n",
       "      <td>300500.0</td>\n",
       "      <td>0.246149</td>\n",
       "    </tr>\n",
       "    <tr>\n",
       "      <th>177</th>\n",
       "      <td>10/6/2021 4:00:00 PM</td>\n",
       "      <td>A009</td>\n",
       "      <td>Cash</td>\n",
       "      <td>7460.0</td>\n",
       "      <td>0.006111</td>\n",
       "    </tr>\n",
       "    <tr>\n",
       "      <th>178</th>\n",
       "      <td>10/6/2021 4:00:00 PM</td>\n",
       "      <td>A009</td>\n",
       "      <td>Equity</td>\n",
       "      <td>855330.0</td>\n",
       "      <td>0.700628</td>\n",
       "    </tr>\n",
       "    <tr>\n",
       "      <th>179</th>\n",
       "      <td>10/6/2021 4:00:00 PM</td>\n",
       "      <td>A009</td>\n",
       "      <td>Fixed Income</td>\n",
       "      <td>57515.0</td>\n",
       "      <td>0.047112</td>\n",
       "    </tr>\n",
       "  </tbody>\n",
       "</table>\n",
       "<p>180 rows × 5 columns</p>\n",
       "</div>"
      ],
      "text/plain": [
       "                     date userid   asset_class     value        wt\n",
       "0    10/2/2021 4:00:00 PM   A001   Alternative   12130.0  0.017091\n",
       "1    10/2/2021 4:00:00 PM   A001          Cash    6210.0  0.008750\n",
       "2    10/2/2021 4:00:00 PM   A001        Equity   59320.0  0.083582\n",
       "3    10/2/2021 4:00:00 PM   A001  Fixed Income  632065.0  0.890577\n",
       "4    10/2/2021 4:00:00 PM   A002   Alternative   24260.0  0.024359\n",
       "..                    ...    ...           ...       ...       ...\n",
       "175  10/6/2021 4:00:00 PM   A008  Fixed Income   57515.0  0.061061\n",
       "176  10/6/2021 4:00:00 PM   A009   Alternative  300500.0  0.246149\n",
       "177  10/6/2021 4:00:00 PM   A009          Cash    7460.0  0.006111\n",
       "178  10/6/2021 4:00:00 PM   A009        Equity  855330.0  0.700628\n",
       "179  10/6/2021 4:00:00 PM   A009  Fixed Income   57515.0  0.047112\n",
       "\n",
       "[180 rows x 5 columns]"
      ]
     },
     "execution_count": 14,
     "metadata": {},
     "output_type": "execute_result"
    }
   ],
   "source": [
    "df_bal_gby"
   ]
  },
  {
   "cell_type": "code",
   "execution_count": 15,
   "id": "fb91792c",
   "metadata": {
    "ExecuteTime": {
     "end_time": "2021-10-06T07:43:48.213635Z",
     "start_time": "2021-10-06T07:43:46.994988Z"
    }
   },
   "outputs": [],
   "source": [
    "table_nm = 'general'\n",
    "df_bal_gby.to_sql(table_nm, con=cnx, index=False, if_exists='append')"
   ]
  },
  {
   "cell_type": "code",
   "execution_count": null,
   "id": "1bbf2471",
   "metadata": {},
   "outputs": [],
   "source": []
  }
 ],
 "metadata": {
  "kernelspec": {
   "display_name": "Python 3",
   "language": "python",
   "name": "python3"
  },
  "language_info": {
   "codemirror_mode": {
    "name": "ipython",
    "version": 3
   },
   "file_extension": ".py",
   "mimetype": "text/x-python",
   "name": "python",
   "nbconvert_exporter": "python",
   "pygments_lexer": "ipython3",
   "version": "3.8.8"
  }
 },
 "nbformat": 4,
 "nbformat_minor": 5
}
