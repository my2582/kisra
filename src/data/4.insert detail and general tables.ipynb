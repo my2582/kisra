{
 "cells": [
  {
   "cell_type": "code",
   "execution_count": 1,
   "id": "c7fc8398",
   "metadata": {
    "ExecuteTime": {
     "end_time": "2021-09-28T05:33:27.011671Z",
     "start_time": "2021-09-28T05:33:25.345222Z"
    }
   },
   "outputs": [],
   "source": [
    "import pandas as pd"
   ]
  },
  {
   "cell_type": "code",
   "execution_count": 2,
   "id": "84e046a9",
   "metadata": {
    "ExecuteTime": {
     "end_time": "2021-09-28T05:33:27.017656Z",
     "start_time": "2021-09-28T05:33:27.013666Z"
    }
   },
   "outputs": [],
   "source": [
    "import datetime as datetime"
   ]
  },
  {
   "cell_type": "code",
   "execution_count": 3,
   "id": "5936343f",
   "metadata": {
    "ExecuteTime": {
     "end_time": "2021-09-28T05:33:27.028626Z",
     "start_time": "2021-09-28T05:33:27.019651Z"
    }
   },
   "outputs": [],
   "source": [
    "access_path = '../../data/processed/'\n",
    "bal_file = 'bal_btw_rebal.dat'\n",
    "# bal_file = 'balance_rebaldate_0801_all.dat'"
   ]
  },
  {
   "cell_type": "markdown",
   "id": "97535736",
   "metadata": {},
   "source": [
    "#### 매일의 잔고(detail 테이블) INSERT"
   ]
  },
  {
   "cell_type": "code",
   "execution_count": 4,
   "id": "ebb2f9f2",
   "metadata": {
    "ExecuteTime": {
     "end_time": "2021-09-28T05:33:27.287918Z",
     "start_time": "2021-09-28T05:33:27.266975Z"
    }
   },
   "outputs": [],
   "source": [
    "df_bal = pd.read_csv(access_path+bal_file, parse_dates=['date'])"
   ]
  },
  {
   "cell_type": "code",
   "execution_count": 5,
   "id": "16851be0",
   "metadata": {
    "ExecuteTime": {
     "end_time": "2021-09-28T05:33:29.415111Z",
     "start_time": "2021-09-28T05:33:29.394167Z"
    }
   },
   "outputs": [
    {
     "data": {
      "text/html": [
       "<div>\n",
       "<style scoped>\n",
       "    .dataframe tbody tr th:only-of-type {\n",
       "        vertical-align: middle;\n",
       "    }\n",
       "\n",
       "    .dataframe tbody tr th {\n",
       "        vertical-align: top;\n",
       "    }\n",
       "\n",
       "    .dataframe thead th {\n",
       "        text-align: right;\n",
       "    }\n",
       "</style>\n",
       "<table border=\"1\" class=\"dataframe\">\n",
       "  <thead>\n",
       "    <tr style=\"text-align: right;\">\n",
       "      <th></th>\n",
       "      <th>date</th>\n",
       "      <th>itemcode</th>\n",
       "      <th>userid</th>\n",
       "      <th>name</th>\n",
       "      <th>asset_class</th>\n",
       "      <th>itemname</th>\n",
       "      <th>quantity</th>\n",
       "      <th>cost_price</th>\n",
       "      <th>cost_value</th>\n",
       "      <th>price</th>\n",
       "      <th>value</th>\n",
       "      <th>wt</th>\n",
       "      <th>group_by</th>\n",
       "      <th>original</th>\n",
       "    </tr>\n",
       "  </thead>\n",
       "  <tbody>\n",
       "    <tr>\n",
       "      <th>0</th>\n",
       "      <td>2021-09-02</td>\n",
       "      <td>A114260</td>\n",
       "      <td>A001</td>\n",
       "      <td>안정추구형소규모</td>\n",
       "      <td>Fixed Income</td>\n",
       "      <td>KODEX 국고채3년</td>\n",
       "      <td>2.0</td>\n",
       "      <td>58140.0</td>\n",
       "      <td>116280.0</td>\n",
       "      <td>58060.0</td>\n",
       "      <td>116120.0</td>\n",
       "      <td>0.162425</td>\n",
       "      <td>NaN</td>\n",
       "      <td>NaN</td>\n",
       "    </tr>\n",
       "    <tr>\n",
       "      <th>1</th>\n",
       "      <td>2021-09-02</td>\n",
       "      <td>A122260</td>\n",
       "      <td>A001</td>\n",
       "      <td>안정추구형소규모</td>\n",
       "      <td>Fixed Income</td>\n",
       "      <td>KOSEF 통안채1년</td>\n",
       "      <td>1.0</td>\n",
       "      <td>101265.0</td>\n",
       "      <td>101265.0</td>\n",
       "      <td>101295.0</td>\n",
       "      <td>101295.0</td>\n",
       "      <td>0.141688</td>\n",
       "      <td>NaN</td>\n",
       "      <td>NaN</td>\n",
       "    </tr>\n",
       "    <tr>\n",
       "      <th>2</th>\n",
       "      <td>2021-09-02</td>\n",
       "      <td>A130730</td>\n",
       "      <td>A001</td>\n",
       "      <td>안정추구형소규모</td>\n",
       "      <td>Fixed Income</td>\n",
       "      <td>KOSEF 단기자금</td>\n",
       "      <td>2.0</td>\n",
       "      <td>101190.0</td>\n",
       "      <td>202380.0</td>\n",
       "      <td>101205.0</td>\n",
       "      <td>202410.0</td>\n",
       "      <td>0.283125</td>\n",
       "      <td>NaN</td>\n",
       "      <td>NaN</td>\n",
       "    </tr>\n",
       "    <tr>\n",
       "      <th>3</th>\n",
       "      <td>2021-09-02</td>\n",
       "      <td>A196230</td>\n",
       "      <td>A001</td>\n",
       "      <td>안정추구형소규모</td>\n",
       "      <td>Fixed Income</td>\n",
       "      <td>KBSTAR 단기통안채</td>\n",
       "      <td>1.0</td>\n",
       "      <td>104535.0</td>\n",
       "      <td>104535.0</td>\n",
       "      <td>104560.0</td>\n",
       "      <td>104560.0</td>\n",
       "      <td>0.146255</td>\n",
       "      <td>NaN</td>\n",
       "      <td>NaN</td>\n",
       "    </tr>\n",
       "    <tr>\n",
       "      <th>4</th>\n",
       "      <td>2021-09-02</td>\n",
       "      <td>A273130</td>\n",
       "      <td>A001</td>\n",
       "      <td>안정추구형소규모</td>\n",
       "      <td>Fixed Income</td>\n",
       "      <td>KODEX 종합채권(AA-이상)액티브</td>\n",
       "      <td>1.0</td>\n",
       "      <td>109870.0</td>\n",
       "      <td>109870.0</td>\n",
       "      <td>109825.0</td>\n",
       "      <td>109825.0</td>\n",
       "      <td>0.153620</td>\n",
       "      <td>NaN</td>\n",
       "      <td>NaN</td>\n",
       "    </tr>\n",
       "    <tr>\n",
       "      <th>...</th>\n",
       "      <td>...</td>\n",
       "      <td>...</td>\n",
       "      <td>...</td>\n",
       "      <td>...</td>\n",
       "      <td>...</td>\n",
       "      <td>...</td>\n",
       "      <td>...</td>\n",
       "      <td>...</td>\n",
       "      <td>...</td>\n",
       "      <td>...</td>\n",
       "      <td>...</td>\n",
       "      <td>...</td>\n",
       "      <td>...</td>\n",
       "      <td>...</td>\n",
       "    </tr>\n",
       "    <tr>\n",
       "      <th>1867</th>\n",
       "      <td>2021-09-27</td>\n",
       "      <td>A278540</td>\n",
       "      <td>A009</td>\n",
       "      <td>적극투자형대규모</td>\n",
       "      <td>Equity</td>\n",
       "      <td>KODEX MSCI Korea TR</td>\n",
       "      <td>24.0</td>\n",
       "      <td>13490.0</td>\n",
       "      <td>323760.0</td>\n",
       "      <td>13180.0</td>\n",
       "      <td>316320.0</td>\n",
       "      <td>0.245707</td>\n",
       "      <td>NaN</td>\n",
       "      <td>NaN</td>\n",
       "    </tr>\n",
       "    <tr>\n",
       "      <th>1868</th>\n",
       "      <td>2021-09-27</td>\n",
       "      <td>A102780</td>\n",
       "      <td>A009</td>\n",
       "      <td>적극투자형대규모</td>\n",
       "      <td>Equity</td>\n",
       "      <td>KODEX 삼성그룹</td>\n",
       "      <td>17.0</td>\n",
       "      <td>10555.0</td>\n",
       "      <td>179435.0</td>\n",
       "      <td>10325.0</td>\n",
       "      <td>175525.0</td>\n",
       "      <td>0.136342</td>\n",
       "      <td>NaN</td>\n",
       "      <td>NaN</td>\n",
       "    </tr>\n",
       "    <tr>\n",
       "      <th>1869</th>\n",
       "      <td>2021-09-27</td>\n",
       "      <td>A069500</td>\n",
       "      <td>A009</td>\n",
       "      <td>적극투자형대규모</td>\n",
       "      <td>Equity</td>\n",
       "      <td>KODEX 200</td>\n",
       "      <td>3.0</td>\n",
       "      <td>41985.0</td>\n",
       "      <td>125955.0</td>\n",
       "      <td>41100.0</td>\n",
       "      <td>123300.0</td>\n",
       "      <td>0.095776</td>\n",
       "      <td>NaN</td>\n",
       "      <td>NaN</td>\n",
       "    </tr>\n",
       "    <tr>\n",
       "      <th>1870</th>\n",
       "      <td>2021-09-27</td>\n",
       "      <td>A114260</td>\n",
       "      <td>A009</td>\n",
       "      <td>적극투자형대규모</td>\n",
       "      <td>Fixed Income</td>\n",
       "      <td>KODEX 국고채3년</td>\n",
       "      <td>1.0</td>\n",
       "      <td>58140.0</td>\n",
       "      <td>58140.0</td>\n",
       "      <td>57835.0</td>\n",
       "      <td>57835.0</td>\n",
       "      <td>0.044924</td>\n",
       "      <td>NaN</td>\n",
       "      <td>NaN</td>\n",
       "    </tr>\n",
       "    <tr>\n",
       "      <th>1871</th>\n",
       "      <td>2021-09-27</td>\n",
       "      <td>C000001</td>\n",
       "      <td>A009</td>\n",
       "      <td>적극투자형대규모</td>\n",
       "      <td>Cash</td>\n",
       "      <td>현금</td>\n",
       "      <td>2785.0</td>\n",
       "      <td>1.0</td>\n",
       "      <td>2785.0</td>\n",
       "      <td>1.0</td>\n",
       "      <td>2785.0</td>\n",
       "      <td>0.002163</td>\n",
       "      <td>NaN</td>\n",
       "      <td>NaN</td>\n",
       "    </tr>\n",
       "  </tbody>\n",
       "</table>\n",
       "<p>1872 rows × 14 columns</p>\n",
       "</div>"
      ],
      "text/plain": [
       "           date itemcode userid      name   asset_class              itemname  \\\n",
       "0    2021-09-02  A114260   A001  안정추구형소규모  Fixed Income           KODEX 국고채3년   \n",
       "1    2021-09-02  A122260   A001  안정추구형소규모  Fixed Income           KOSEF 통안채1년   \n",
       "2    2021-09-02  A130730   A001  안정추구형소규모  Fixed Income            KOSEF 단기자금   \n",
       "3    2021-09-02  A196230   A001  안정추구형소규모  Fixed Income          KBSTAR 단기통안채   \n",
       "4    2021-09-02  A273130   A001  안정추구형소규모  Fixed Income  KODEX 종합채권(AA-이상)액티브   \n",
       "...         ...      ...    ...       ...           ...                   ...   \n",
       "1867 2021-09-27  A278540   A009  적극투자형대규모        Equity   KODEX MSCI Korea TR   \n",
       "1868 2021-09-27  A102780   A009  적극투자형대규모        Equity            KODEX 삼성그룹   \n",
       "1869 2021-09-27  A069500   A009  적극투자형대규모        Equity             KODEX 200   \n",
       "1870 2021-09-27  A114260   A009  적극투자형대규모  Fixed Income           KODEX 국고채3년   \n",
       "1871 2021-09-27  C000001   A009  적극투자형대규모          Cash                    현금   \n",
       "\n",
       "      quantity  cost_price  cost_value     price     value        wt  \\\n",
       "0          2.0     58140.0    116280.0   58060.0  116120.0  0.162425   \n",
       "1          1.0    101265.0    101265.0  101295.0  101295.0  0.141688   \n",
       "2          2.0    101190.0    202380.0  101205.0  202410.0  0.283125   \n",
       "3          1.0    104535.0    104535.0  104560.0  104560.0  0.146255   \n",
       "4          1.0    109870.0    109870.0  109825.0  109825.0  0.153620   \n",
       "...        ...         ...         ...       ...       ...       ...   \n",
       "1867      24.0     13490.0    323760.0   13180.0  316320.0  0.245707   \n",
       "1868      17.0     10555.0    179435.0   10325.0  175525.0  0.136342   \n",
       "1869       3.0     41985.0    125955.0   41100.0  123300.0  0.095776   \n",
       "1870       1.0     58140.0     58140.0   57835.0   57835.0  0.044924   \n",
       "1871    2785.0         1.0      2785.0       1.0    2785.0  0.002163   \n",
       "\n",
       "      group_by  original  \n",
       "0          NaN       NaN  \n",
       "1          NaN       NaN  \n",
       "2          NaN       NaN  \n",
       "3          NaN       NaN  \n",
       "4          NaN       NaN  \n",
       "...        ...       ...  \n",
       "1867       NaN       NaN  \n",
       "1868       NaN       NaN  \n",
       "1869       NaN       NaN  \n",
       "1870       NaN       NaN  \n",
       "1871       NaN       NaN  \n",
       "\n",
       "[1872 rows x 14 columns]"
      ]
     },
     "execution_count": 5,
     "metadata": {},
     "output_type": "execute_result"
    }
   ],
   "source": [
    "df_bal"
   ]
  },
  {
   "cell_type": "code",
   "execution_count": 6,
   "id": "32fb7683",
   "metadata": {
    "ExecuteTime": {
     "end_time": "2021-09-28T05:33:33.410202Z",
     "start_time": "2021-09-28T05:33:33.393248Z"
    },
    "code_folding": []
   },
   "outputs": [],
   "source": [
    "df_bal.date = df_bal['date'].dt.strftime('%#m/%#d/%Y 4:%M:%S PM')\n",
    "# df_bal.date = df_bal['date'].dt.strftime('%-m/%-d/%Y 4:%M:%S PM')"
   ]
  },
  {
   "cell_type": "code",
   "execution_count": 7,
   "id": "13f4492c",
   "metadata": {
    "ExecuteTime": {
     "end_time": "2021-09-28T05:33:34.119266Z",
     "start_time": "2021-09-28T05:33:34.113282Z"
    }
   },
   "outputs": [
    {
     "data": {
      "text/plain": [
       "0        9/2/2021 4:00:00 PM\n",
       "1        9/2/2021 4:00:00 PM\n",
       "2        9/2/2021 4:00:00 PM\n",
       "3        9/2/2021 4:00:00 PM\n",
       "4        9/2/2021 4:00:00 PM\n",
       "                ...         \n",
       "1867    9/27/2021 4:00:00 PM\n",
       "1868    9/27/2021 4:00:00 PM\n",
       "1869    9/27/2021 4:00:00 PM\n",
       "1870    9/27/2021 4:00:00 PM\n",
       "1871    9/27/2021 4:00:00 PM\n",
       "Name: date, Length: 1872, dtype: object"
      ]
     },
     "execution_count": 7,
     "metadata": {},
     "output_type": "execute_result"
    }
   ],
   "source": [
    "df_bal.date"
   ]
  },
  {
   "cell_type": "code",
   "execution_count": 8,
   "id": "bb2ab546",
   "metadata": {
    "ExecuteTime": {
     "end_time": "2021-09-28T05:33:38.975008Z",
     "start_time": "2021-09-28T05:33:37.544913Z"
    }
   },
   "outputs": [],
   "source": [
    "from sqlalchemy import create_engine\n",
    "\n",
    "# Defining our connection variables\n",
    "username = 'kdyjpzwsyqrqpb' # replace with your username\n",
    "password = '6b610da9417e361c2af3be1fd0c179061b5b258f0e6f7ff9e1da464ba221e46c' # replace with your password\n",
    "ipaddress = 'ec2-35-174-35-242.compute-1.amazonaws.com' # change this to your db’s IP address is if not Panoply\n",
    "port = 5432 # this is the standard port for Postgres, but change it to your port if needed\n",
    "dbname = 'd2ke5vkurjkusr' # change this to...you guessed it...the name of your db\n",
    "\n",
    "# A long string that contains the necessary Postgres login information\n",
    "postgres_str = f'postgresql://{username}:{password}@{ipaddress}:{port}/{dbname}'\n",
    "          \n",
    "# Create the connection\n",
    "cnx = create_engine(postgres_str)"
   ]
  },
  {
   "cell_type": "code",
   "execution_count": 9,
   "id": "e8e43fba",
   "metadata": {
    "ExecuteTime": {
     "end_time": "2021-09-28T05:33:46.463567Z",
     "start_time": "2021-09-28T05:33:40.503833Z"
    }
   },
   "outputs": [],
   "source": [
    "table_nm = 'detail'\n",
    "df_bal.to_sql(table_nm, con=cnx, index=False, if_exists='append')"
   ]
  },
  {
   "cell_type": "markdown",
   "id": "05de1469",
   "metadata": {},
   "source": [
    "### 자산군별 비중(general 테이블) INSERT"
   ]
  },
  {
   "cell_type": "code",
   "execution_count": 10,
   "id": "ccdb12e9",
   "metadata": {
    "ExecuteTime": {
     "end_time": "2021-09-28T05:33:46.485502Z",
     "start_time": "2021-09-28T05:33:46.465556Z"
    }
   },
   "outputs": [],
   "source": [
    "df_bal = pd.read_csv(access_path+bal_file, parse_dates=['date'])"
   ]
  },
  {
   "cell_type": "code",
   "execution_count": 11,
   "id": "72f4db17",
   "metadata": {
    "ExecuteTime": {
     "end_time": "2021-09-28T05:33:46.496472Z",
     "start_time": "2021-09-28T05:33:46.487497Z"
    }
   },
   "outputs": [],
   "source": [
    "df_bal_gby = df_bal.loc[:, ['date', 'userid', 'value', 'asset_class']].sort_values(\n",
    "    ['date', 'userid'],\n",
    "    ascending=True).groupby(['date', 'userid', 'asset_class'\n",
    "                             ]).sum().reset_index(drop=False)"
   ]
  },
  {
   "cell_type": "code",
   "execution_count": 12,
   "id": "bf476549",
   "metadata": {
    "ExecuteTime": {
     "end_time": "2021-09-28T05:33:46.570270Z",
     "start_time": "2021-09-28T05:33:46.498466Z"
    }
   },
   "outputs": [],
   "source": [
    "df_bal_gby = df_bal_gby.assign(wt=df_bal_gby.groupby(['date', 'userid'])['value'].transform(lambda x: x/x.sum()))"
   ]
  },
  {
   "cell_type": "code",
   "execution_count": 13,
   "id": "b19d8928",
   "metadata": {
    "ExecuteTime": {
     "end_time": "2021-09-28T05:33:46.583235Z",
     "start_time": "2021-09-28T05:33:46.572264Z"
    }
   },
   "outputs": [],
   "source": [
    "df_bal_gby.date = df_bal_gby['date'].dt.strftime('%#m/%#d/%Y 4:%M:%S PM')\n",
    "# df_bal_gby.date = df_bal_gby['date'].dt.strftime('%-m/%-d/%Y 4:%M:%S PM')"
   ]
  },
  {
   "cell_type": "code",
   "execution_count": 14,
   "id": "f2532c30",
   "metadata": {
    "ExecuteTime": {
     "end_time": "2021-09-28T05:33:46.600190Z",
     "start_time": "2021-09-28T05:33:46.585229Z"
    }
   },
   "outputs": [
    {
     "data": {
      "text/html": [
       "<div>\n",
       "<style scoped>\n",
       "    .dataframe tbody tr th:only-of-type {\n",
       "        vertical-align: middle;\n",
       "    }\n",
       "\n",
       "    .dataframe tbody tr th {\n",
       "        vertical-align: top;\n",
       "    }\n",
       "\n",
       "    .dataframe thead th {\n",
       "        text-align: right;\n",
       "    }\n",
       "</style>\n",
       "<table border=\"1\" class=\"dataframe\">\n",
       "  <thead>\n",
       "    <tr style=\"text-align: right;\">\n",
       "      <th></th>\n",
       "      <th>date</th>\n",
       "      <th>userid</th>\n",
       "      <th>asset_class</th>\n",
       "      <th>value</th>\n",
       "      <th>wt</th>\n",
       "    </tr>\n",
       "  </thead>\n",
       "  <tbody>\n",
       "    <tr>\n",
       "      <th>0</th>\n",
       "      <td>9/2/2021 4:00:00 PM</td>\n",
       "      <td>A001</td>\n",
       "      <td>Alternative</td>\n",
       "      <td>12245.0</td>\n",
       "      <td>0.017128</td>\n",
       "    </tr>\n",
       "    <tr>\n",
       "      <th>1</th>\n",
       "      <td>9/2/2021 4:00:00 PM</td>\n",
       "      <td>A001</td>\n",
       "      <td>Cash</td>\n",
       "      <td>6210.0</td>\n",
       "      <td>0.008686</td>\n",
       "    </tr>\n",
       "    <tr>\n",
       "      <th>2</th>\n",
       "      <td>9/2/2021 4:00:00 PM</td>\n",
       "      <td>A001</td>\n",
       "      <td>Equity</td>\n",
       "      <td>62250.0</td>\n",
       "      <td>0.087073</td>\n",
       "    </tr>\n",
       "    <tr>\n",
       "      <th>3</th>\n",
       "      <td>9/2/2021 4:00:00 PM</td>\n",
       "      <td>A001</td>\n",
       "      <td>Fixed Income</td>\n",
       "      <td>634210.0</td>\n",
       "      <td>0.887112</td>\n",
       "    </tr>\n",
       "    <tr>\n",
       "      <th>4</th>\n",
       "      <td>9/2/2021 4:00:00 PM</td>\n",
       "      <td>A002</td>\n",
       "      <td>Alternative</td>\n",
       "      <td>24490.0</td>\n",
       "      <td>0.024369</td>\n",
       "    </tr>\n",
       "    <tr>\n",
       "      <th>...</th>\n",
       "      <td>...</td>\n",
       "      <td>...</td>\n",
       "      <td>...</td>\n",
       "      <td>...</td>\n",
       "      <td>...</td>\n",
       "    </tr>\n",
       "    <tr>\n",
       "      <th>931</th>\n",
       "      <td>9/27/2021 4:00:00 PM</td>\n",
       "      <td>A008</td>\n",
       "      <td>Fixed Income</td>\n",
       "      <td>57835.0</td>\n",
       "      <td>0.058274</td>\n",
       "    </tr>\n",
       "    <tr>\n",
       "      <th>932</th>\n",
       "      <td>9/27/2021 4:00:00 PM</td>\n",
       "      <td>A009</td>\n",
       "      <td>Alternative</td>\n",
       "      <td>331290.0</td>\n",
       "      <td>0.257336</td>\n",
       "    </tr>\n",
       "    <tr>\n",
       "      <th>933</th>\n",
       "      <td>9/27/2021 4:00:00 PM</td>\n",
       "      <td>A009</td>\n",
       "      <td>Cash</td>\n",
       "      <td>2785.0</td>\n",
       "      <td>0.002163</td>\n",
       "    </tr>\n",
       "    <tr>\n",
       "      <th>934</th>\n",
       "      <td>9/27/2021 4:00:00 PM</td>\n",
       "      <td>A009</td>\n",
       "      <td>Equity</td>\n",
       "      <td>895475.0</td>\n",
       "      <td>0.695577</td>\n",
       "    </tr>\n",
       "    <tr>\n",
       "      <th>935</th>\n",
       "      <td>9/27/2021 4:00:00 PM</td>\n",
       "      <td>A009</td>\n",
       "      <td>Fixed Income</td>\n",
       "      <td>57835.0</td>\n",
       "      <td>0.044924</td>\n",
       "    </tr>\n",
       "  </tbody>\n",
       "</table>\n",
       "<p>936 rows × 5 columns</p>\n",
       "</div>"
      ],
      "text/plain": [
       "                     date userid   asset_class     value        wt\n",
       "0     9/2/2021 4:00:00 PM   A001   Alternative   12245.0  0.017128\n",
       "1     9/2/2021 4:00:00 PM   A001          Cash    6210.0  0.008686\n",
       "2     9/2/2021 4:00:00 PM   A001        Equity   62250.0  0.087073\n",
       "3     9/2/2021 4:00:00 PM   A001  Fixed Income  634210.0  0.887112\n",
       "4     9/2/2021 4:00:00 PM   A002   Alternative   24490.0  0.024369\n",
       "..                    ...    ...           ...       ...       ...\n",
       "931  9/27/2021 4:00:00 PM   A008  Fixed Income   57835.0  0.058274\n",
       "932  9/27/2021 4:00:00 PM   A009   Alternative  331290.0  0.257336\n",
       "933  9/27/2021 4:00:00 PM   A009          Cash    2785.0  0.002163\n",
       "934  9/27/2021 4:00:00 PM   A009        Equity  895475.0  0.695577\n",
       "935  9/27/2021 4:00:00 PM   A009  Fixed Income   57835.0  0.044924\n",
       "\n",
       "[936 rows x 5 columns]"
      ]
     },
     "execution_count": 14,
     "metadata": {},
     "output_type": "execute_result"
    }
   ],
   "source": [
    "df_bal_gby"
   ]
  },
  {
   "cell_type": "code",
   "execution_count": 15,
   "id": "fb91792c",
   "metadata": {
    "ExecuteTime": {
     "end_time": "2021-09-28T05:33:54.348252Z",
     "start_time": "2021-09-28T05:33:52.895192Z"
    }
   },
   "outputs": [],
   "source": [
    "table_nm = 'general'\n",
    "df_bal_gby.to_sql(table_nm, con=cnx, index=False, if_exists='append')"
   ]
  },
  {
   "cell_type": "code",
   "execution_count": null,
   "id": "1bbf2471",
   "metadata": {},
   "outputs": [],
   "source": []
  }
 ],
 "metadata": {
  "kernelspec": {
   "display_name": "Python 3",
   "language": "python",
   "name": "python3"
  },
  "language_info": {
   "codemirror_mode": {
    "name": "ipython",
    "version": 3
   },
   "file_extension": ".py",
   "mimetype": "text/x-python",
   "name": "python",
   "nbconvert_exporter": "python",
   "pygments_lexer": "ipython3",
   "version": "3.8.8"
  }
 },
 "nbformat": 4,
 "nbformat_minor": 5
}
