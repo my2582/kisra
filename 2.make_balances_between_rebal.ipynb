{
 "cells": [
  {
   "cell_type": "code",
   "execution_count": 3,
   "id": "allied-variety",
   "metadata": {
    "ExecuteTime": {
     "end_time": "2021-10-06T07:39:42.533035Z",
     "start_time": "2021-10-06T07:39:40.831557Z"
    }
   },
   "outputs": [],
   "source": [
    "import numpy as np\n",
    "import pandas as pd\n",
    "from datetime import datetime\n",
    "from src.models.load_data import Balance, Instruments, AdvisedPortfolios, PriceDB, Singleton"
   ]
  },
  {
   "cell_type": "code",
   "execution_count": 4,
   "id": "changing-start",
   "metadata": {
    "ExecuteTime": {
     "end_time": "2021-10-06T07:39:42.537992Z",
     "start_time": "2021-10-06T07:39:42.535000Z"
    }
   },
   "outputs": [],
   "source": [
    "access_path = './data/processed/'\n",
    "# bal_from_nm = 'bal_btw_rebal_20210602.dat'\n",
    "# last_rebal_nm = 'balance_rebaldate_0702_all.dat'\n",
    "# last_rebal_nm = 'balance_rebaldate_0801_all.dat'\n",
    "# last_rebal_nm = 'balance_rebaldate_0901_all.dat'\n",
    "last_rebal_nm = 'balance_rebaldate_0930_all.dat'"
   ]
  },
  {
   "cell_type": "code",
   "execution_count": 5,
   "id": "bright-round",
   "metadata": {
    "ExecuteTime": {
     "end_time": "2021-10-06T07:39:42.589854Z",
     "start_time": "2021-10-06T07:39:42.539988Z"
    }
   },
   "outputs": [],
   "source": [
    "bal_from = pd.read_csv(access_path + last_rebal_nm)\n",
    "price_db = PriceDB.instance().data"
   ]
  },
  {
   "cell_type": "code",
   "execution_count": 6,
   "id": "refined-friday",
   "metadata": {
    "ExecuteTime": {
     "end_time": "2021-10-06T07:39:42.610798Z",
     "start_time": "2021-10-06T07:39:42.590852Z"
    }
   },
   "outputs": [
    {
     "data": {
      "text/html": [
       "<div>\n",
       "<style scoped>\n",
       "    .dataframe tbody tr th:only-of-type {\n",
       "        vertical-align: middle;\n",
       "    }\n",
       "\n",
       "    .dataframe tbody tr th {\n",
       "        vertical-align: top;\n",
       "    }\n",
       "\n",
       "    .dataframe thead th {\n",
       "        text-align: right;\n",
       "    }\n",
       "</style>\n",
       "<table border=\"1\" class=\"dataframe\">\n",
       "  <thead>\n",
       "    <tr style=\"text-align: right;\">\n",
       "      <th></th>\n",
       "      <th>date</th>\n",
       "      <th>itemcode</th>\n",
       "      <th>price</th>\n",
       "      <th>volume</th>\n",
       "      <th>trading_amt_mln</th>\n",
       "      <th>ret</th>\n",
       "      <th>itemtype</th>\n",
       "    </tr>\n",
       "  </thead>\n",
       "  <tbody>\n",
       "    <tr>\n",
       "      <th>0</th>\n",
       "      <td>2018-07-20</td>\n",
       "      <td>A069500</td>\n",
       "      <td>27910.0000</td>\n",
       "      <td>8517238.0</td>\n",
       "      <td>237716.112580</td>\n",
       "      <td>NaN</td>\n",
       "      <td>ETF</td>\n",
       "    </tr>\n",
       "    <tr>\n",
       "      <th>1</th>\n",
       "      <td>2018-07-21</td>\n",
       "      <td>A069500</td>\n",
       "      <td>27910.0000</td>\n",
       "      <td>8517238.0</td>\n",
       "      <td>237716.112580</td>\n",
       "      <td>NaN</td>\n",
       "      <td>ETF</td>\n",
       "    </tr>\n",
       "    <tr>\n",
       "      <th>2</th>\n",
       "      <td>2018-07-22</td>\n",
       "      <td>A069500</td>\n",
       "      <td>27910.0000</td>\n",
       "      <td>8517238.0</td>\n",
       "      <td>237716.112580</td>\n",
       "      <td>NaN</td>\n",
       "      <td>ETF</td>\n",
       "    </tr>\n",
       "    <tr>\n",
       "      <th>3</th>\n",
       "      <td>2018-07-23</td>\n",
       "      <td>A069500</td>\n",
       "      <td>27685.0000</td>\n",
       "      <td>7283838.0</td>\n",
       "      <td>219684.583805</td>\n",
       "      <td>-0.008094</td>\n",
       "      <td>ETF</td>\n",
       "    </tr>\n",
       "    <tr>\n",
       "      <th>4</th>\n",
       "      <td>2018-07-24</td>\n",
       "      <td>A069500</td>\n",
       "      <td>27770.0000</td>\n",
       "      <td>2562621.0</td>\n",
       "      <td>170177.717593</td>\n",
       "      <td>0.003066</td>\n",
       "      <td>ETF</td>\n",
       "    </tr>\n",
       "    <tr>\n",
       "      <th>...</th>\n",
       "      <td>...</td>\n",
       "      <td>...</td>\n",
       "      <td>...</td>\n",
       "      <td>...</td>\n",
       "      <td>...</td>\n",
       "      <td>...</td>\n",
       "      <td>...</td>\n",
       "    </tr>\n",
       "    <tr>\n",
       "      <th>40642</th>\n",
       "      <td>2021-10-02</td>\n",
       "      <td>CALL</td>\n",
       "      <td>0.0071</td>\n",
       "      <td>NaN</td>\n",
       "      <td>NaN</td>\n",
       "      <td>NaN</td>\n",
       "      <td>riskfree</td>\n",
       "    </tr>\n",
       "    <tr>\n",
       "      <th>40643</th>\n",
       "      <td>2021-10-03</td>\n",
       "      <td>CALL</td>\n",
       "      <td>0.0071</td>\n",
       "      <td>NaN</td>\n",
       "      <td>NaN</td>\n",
       "      <td>NaN</td>\n",
       "      <td>riskfree</td>\n",
       "    </tr>\n",
       "    <tr>\n",
       "      <th>40644</th>\n",
       "      <td>2021-10-04</td>\n",
       "      <td>CALL</td>\n",
       "      <td>0.0071</td>\n",
       "      <td>NaN</td>\n",
       "      <td>NaN</td>\n",
       "      <td>NaN</td>\n",
       "      <td>riskfree</td>\n",
       "    </tr>\n",
       "    <tr>\n",
       "      <th>40645</th>\n",
       "      <td>2021-10-05</td>\n",
       "      <td>CALL</td>\n",
       "      <td>0.0069</td>\n",
       "      <td>NaN</td>\n",
       "      <td>NaN</td>\n",
       "      <td>NaN</td>\n",
       "      <td>riskfree</td>\n",
       "    </tr>\n",
       "    <tr>\n",
       "      <th>40646</th>\n",
       "      <td>2021-10-06</td>\n",
       "      <td>CALL</td>\n",
       "      <td>0.0069</td>\n",
       "      <td>NaN</td>\n",
       "      <td>NaN</td>\n",
       "      <td>NaN</td>\n",
       "      <td>riskfree</td>\n",
       "    </tr>\n",
       "  </tbody>\n",
       "</table>\n",
       "<p>40647 rows × 7 columns</p>\n",
       "</div>"
      ],
      "text/plain": [
       "            date itemcode       price     volume  trading_amt_mln       ret  \\\n",
       "0     2018-07-20  A069500  27910.0000  8517238.0    237716.112580       NaN   \n",
       "1     2018-07-21  A069500  27910.0000  8517238.0    237716.112580       NaN   \n",
       "2     2018-07-22  A069500  27910.0000  8517238.0    237716.112580       NaN   \n",
       "3     2018-07-23  A069500  27685.0000  7283838.0    219684.583805 -0.008094   \n",
       "4     2018-07-24  A069500  27770.0000  2562621.0    170177.717593  0.003066   \n",
       "...          ...      ...         ...        ...              ...       ...   \n",
       "40642 2021-10-02     CALL      0.0071        NaN              NaN       NaN   \n",
       "40643 2021-10-03     CALL      0.0071        NaN              NaN       NaN   \n",
       "40644 2021-10-04     CALL      0.0071        NaN              NaN       NaN   \n",
       "40645 2021-10-05     CALL      0.0069        NaN              NaN       NaN   \n",
       "40646 2021-10-06     CALL      0.0069        NaN              NaN       NaN   \n",
       "\n",
       "       itemtype  \n",
       "0           ETF  \n",
       "1           ETF  \n",
       "2           ETF  \n",
       "3           ETF  \n",
       "4           ETF  \n",
       "...         ...  \n",
       "40642  riskfree  \n",
       "40643  riskfree  \n",
       "40644  riskfree  \n",
       "40645  riskfree  \n",
       "40646  riskfree  \n",
       "\n",
       "[40647 rows x 7 columns]"
      ]
     },
     "execution_count": 6,
     "metadata": {},
     "output_type": "execute_result"
    }
   ],
   "source": [
    "price_db"
   ]
  },
  {
   "cell_type": "markdown",
   "id": "optimum-contractor",
   "metadata": {},
   "source": [
    "#### MP 발생일\n",
    "- 2021.5.3\n",
    "- 2021.6.2\n",
    "- 2021.7.2\n",
    "- 2021.8.1 (일요일)\n",
    "- 2021.9.1\n",
    "- 2021.10.1\n",
    "- 2021.10.7 (임시)"
   ]
  },
  {
   "cell_type": "code",
   "execution_count": 7,
   "id": "elder-sally",
   "metadata": {
    "ExecuteTime": {
     "end_time": "2021-10-06T07:41:09.019826Z",
     "start_time": "2021-10-06T07:41:09.014838Z"
    }
   },
   "outputs": [],
   "source": [
    "# 두 MP발생일 사이 기간 설정\n",
    "start_dt = '20211002'  # MP발생 다음날부터\n",
    "end_dt = '20211006'    # MP발생 전날까지\n",
    "\n",
    "range_dt_ymd = pd.date_range(start=start_dt, end=end_dt, freq='D')  # price_db 날짜 포맷\n",
    "range_dt_mdy = range_dt_ymd.strftime('%-m/%-d/%Y')  # 잔고(balance) 날짜 포맷"
   ]
  },
  {
   "cell_type": "code",
   "execution_count": 8,
   "id": "metropolitan-footwear",
   "metadata": {
    "ExecuteTime": {
     "end_time": "2021-10-06T07:41:11.202816Z",
     "start_time": "2021-10-06T07:41:11.198854Z"
    }
   },
   "outputs": [],
   "source": [
    "# price_db 마지막 날짜를 휴일에 복사하기\n",
    "# temp = price_db[price_db.date==price_db.iloc[-1,0]].copy()\n",
    "# temp.date = '2021-07-31'\n",
    "# price_db = pd.concat((price_db, temp), axis=0)\n",
    "# price_db = price_db.reset_index(drop=True)"
   ]
  },
  {
   "cell_type": "code",
   "execution_count": null,
   "id": "mobile-project",
   "metadata": {
    "ExecuteTime": {
     "end_time": "2021-07-31T07:12:41.163611Z",
     "start_time": "2021-07-31T07:12:41.033854Z"
    },
    "scrolled": true
   },
   "outputs": [],
   "source": []
  },
  {
   "cell_type": "code",
   "execution_count": null,
   "id": "opposite-wells",
   "metadata": {
    "ExecuteTime": {
     "end_time": "2021-07-31T07:12:41.414433Z",
     "start_time": "2021-07-31T07:12:41.408600Z"
    }
   },
   "outputs": [],
   "source": []
  },
  {
   "cell_type": "markdown",
   "id": "mexican-miracle",
   "metadata": {
    "ExecuteTime": {
     "end_time": "2021-06-20T04:35:00.238543Z",
     "start_time": "2021-06-20T04:35:00.234516Z"
    }
   },
   "source": [
    "#### 최근 과거 MP발생일 잔고를 해당 기간 내 매일 매일의 잔고로 복사해 두고, price 컬럼과 value 컬럼을 업데이트하면 끝."
   ]
  },
  {
   "cell_type": "markdown",
   "id": "hundred-karma",
   "metadata": {},
   "source": [
    "- 잔고 복사"
   ]
  },
  {
   "cell_type": "code",
   "execution_count": 9,
   "id": "legislative-answer",
   "metadata": {
    "ExecuteTime": {
     "end_time": "2021-10-06T07:41:12.218022Z",
     "start_time": "2021-10-06T07:41:12.207080Z"
    }
   },
   "outputs": [],
   "source": [
    "df_list = []\n",
    "for cnt, dt in enumerate(range_dt_ymd):\n",
    "    temp = bal_from.copy(deep=True)\n",
    "    temp.date = dt\n",
    "    df_list.append(temp)\n",
    "    \n",
    "bal_btw_rebal = pd.concat(df_list)"
   ]
  },
  {
   "cell_type": "markdown",
   "id": "subsequent-norwegian",
   "metadata": {
    "ExecuteTime": {
     "end_time": "2021-06-20T06:10:53.838224Z",
     "start_time": "2021-06-20T06:10:53.824476Z"
    }
   },
   "source": [
    "- `price_db`를 이용해서 Price 컬럼 업데이트."
   ]
  },
  {
   "cell_type": "code",
   "execution_count": 10,
   "id": "green-teacher",
   "metadata": {
    "ExecuteTime": {
     "end_time": "2021-10-06T07:41:12.624931Z",
     "start_time": "2021-10-06T07:41:12.599971Z"
    }
   },
   "outputs": [],
   "source": [
    "bal_btw_rebal = bal_btw_rebal.set_index(['date', 'itemcode'])\n",
    "price_db = price_db.set_index(['date', 'itemcode'])\n",
    "bal_btw_rebal.update(price_db)\n",
    "bal_btw_rebal = bal_btw_rebal.reset_index(drop=False)"
   ]
  },
  {
   "cell_type": "markdown",
   "id": "north-transcription",
   "metadata": {},
   "source": [
    "- 사용자별/날짜별로 비중(`wt`) 계산"
   ]
  },
  {
   "cell_type": "code",
   "execution_count": 11,
   "id": "individual-ideal",
   "metadata": {
    "ExecuteTime": {
     "end_time": "2021-10-06T07:41:14.381068Z",
     "start_time": "2021-10-06T07:41:14.375085Z"
    }
   },
   "outputs": [],
   "source": [
    "bal_btw_rebal.value = bal_btw_rebal.quantity*bal_btw_rebal.price\n",
    "bal_btw_rebal.original = ''\n",
    "bal_btw_rebal.wt = bal_btw_rebal.value/bal_btw_rebal.groupby(['date', 'userid'])['value'].transform('sum')"
   ]
  },
  {
   "cell_type": "code",
   "execution_count": 12,
   "id": "hungarian-queens",
   "metadata": {
    "ExecuteTime": {
     "end_time": "2021-10-06T07:41:14.592487Z",
     "start_time": "2021-10-06T07:41:14.575534Z"
    }
   },
   "outputs": [
    {
     "data": {
      "text/html": [
       "<div>\n",
       "<style scoped>\n",
       "    .dataframe tbody tr th:only-of-type {\n",
       "        vertical-align: middle;\n",
       "    }\n",
       "\n",
       "    .dataframe tbody tr th {\n",
       "        vertical-align: top;\n",
       "    }\n",
       "\n",
       "    .dataframe thead th {\n",
       "        text-align: right;\n",
       "    }\n",
       "</style>\n",
       "<table border=\"1\" class=\"dataframe\">\n",
       "  <thead>\n",
       "    <tr style=\"text-align: right;\">\n",
       "      <th></th>\n",
       "      <th>date</th>\n",
       "      <th>itemcode</th>\n",
       "      <th>userid</th>\n",
       "      <th>name</th>\n",
       "      <th>asset_class</th>\n",
       "      <th>itemname</th>\n",
       "      <th>quantity</th>\n",
       "      <th>cost_price</th>\n",
       "      <th>cost_value</th>\n",
       "      <th>price</th>\n",
       "      <th>value</th>\n",
       "      <th>wt</th>\n",
       "      <th>group_by</th>\n",
       "      <th>original</th>\n",
       "    </tr>\n",
       "  </thead>\n",
       "  <tbody>\n",
       "    <tr>\n",
       "      <th>0</th>\n",
       "      <td>2021-10-02</td>\n",
       "      <td>A114260</td>\n",
       "      <td>A001</td>\n",
       "      <td>안정추구형소규모</td>\n",
       "      <td>Fixed Income</td>\n",
       "      <td>KODEX 국고채3년</td>\n",
       "      <td>2.0</td>\n",
       "      <td>57760.0</td>\n",
       "      <td>115520.0</td>\n",
       "      <td>57675.0</td>\n",
       "      <td>115350.0</td>\n",
       "      <td>0.162528</td>\n",
       "      <td>NaN</td>\n",
       "      <td></td>\n",
       "    </tr>\n",
       "    <tr>\n",
       "      <th>1</th>\n",
       "      <td>2021-10-02</td>\n",
       "      <td>A122260</td>\n",
       "      <td>A001</td>\n",
       "      <td>안정추구형소규모</td>\n",
       "      <td>Fixed Income</td>\n",
       "      <td>KOSEF 통안채1년</td>\n",
       "      <td>1.0</td>\n",
       "      <td>101265.0</td>\n",
       "      <td>101265.0</td>\n",
       "      <td>101265.0</td>\n",
       "      <td>101265.0</td>\n",
       "      <td>0.142682</td>\n",
       "      <td>NaN</td>\n",
       "      <td></td>\n",
       "    </tr>\n",
       "    <tr>\n",
       "      <th>2</th>\n",
       "      <td>2021-10-02</td>\n",
       "      <td>A130730</td>\n",
       "      <td>A001</td>\n",
       "      <td>안정추구형소규모</td>\n",
       "      <td>Fixed Income</td>\n",
       "      <td>KOSEF 단기자금</td>\n",
       "      <td>2.0</td>\n",
       "      <td>101245.0</td>\n",
       "      <td>202490.0</td>\n",
       "      <td>101245.0</td>\n",
       "      <td>202490.0</td>\n",
       "      <td>0.285308</td>\n",
       "      <td>NaN</td>\n",
       "      <td></td>\n",
       "    </tr>\n",
       "    <tr>\n",
       "      <th>3</th>\n",
       "      <td>2021-10-02</td>\n",
       "      <td>A196230</td>\n",
       "      <td>A001</td>\n",
       "      <td>안정추구형소규모</td>\n",
       "      <td>Fixed Income</td>\n",
       "      <td>KBSTAR 단기통안채</td>\n",
       "      <td>1.0</td>\n",
       "      <td>104605.0</td>\n",
       "      <td>104605.0</td>\n",
       "      <td>104610.0</td>\n",
       "      <td>104610.0</td>\n",
       "      <td>0.147395</td>\n",
       "      <td>NaN</td>\n",
       "      <td></td>\n",
       "    </tr>\n",
       "    <tr>\n",
       "      <th>4</th>\n",
       "      <td>2021-10-02</td>\n",
       "      <td>A273130</td>\n",
       "      <td>A001</td>\n",
       "      <td>안정추구형소규모</td>\n",
       "      <td>Fixed Income</td>\n",
       "      <td>KODEX 종합채권(AA-이상)액티브</td>\n",
       "      <td>1.0</td>\n",
       "      <td>108380.0</td>\n",
       "      <td>108380.0</td>\n",
       "      <td>108350.0</td>\n",
       "      <td>108350.0</td>\n",
       "      <td>0.152665</td>\n",
       "      <td>NaN</td>\n",
       "      <td></td>\n",
       "    </tr>\n",
       "    <tr>\n",
       "      <th>...</th>\n",
       "      <td>...</td>\n",
       "      <td>...</td>\n",
       "      <td>...</td>\n",
       "      <td>...</td>\n",
       "      <td>...</td>\n",
       "      <td>...</td>\n",
       "      <td>...</td>\n",
       "      <td>...</td>\n",
       "      <td>...</td>\n",
       "      <td>...</td>\n",
       "      <td>...</td>\n",
       "      <td>...</td>\n",
       "      <td>...</td>\n",
       "      <td>...</td>\n",
       "    </tr>\n",
       "    <tr>\n",
       "      <th>355</th>\n",
       "      <td>2021-10-06</td>\n",
       "      <td>A278540</td>\n",
       "      <td>A009</td>\n",
       "      <td>적극투자형대규모</td>\n",
       "      <td>Equity</td>\n",
       "      <td>KODEX MSCI Korea TR</td>\n",
       "      <td>23.0</td>\n",
       "      <td>12875.0</td>\n",
       "      <td>296125.0</td>\n",
       "      <td>12230.0</td>\n",
       "      <td>281290.0</td>\n",
       "      <td>0.230414</td>\n",
       "      <td>NaN</td>\n",
       "      <td></td>\n",
       "    </tr>\n",
       "    <tr>\n",
       "      <th>356</th>\n",
       "      <td>2021-10-06</td>\n",
       "      <td>A102780</td>\n",
       "      <td>A009</td>\n",
       "      <td>적극투자형대규모</td>\n",
       "      <td>Equity</td>\n",
       "      <td>KODEX 삼성그룹</td>\n",
       "      <td>17.0</td>\n",
       "      <td>10075.0</td>\n",
       "      <td>171275.0</td>\n",
       "      <td>9580.0</td>\n",
       "      <td>162860.0</td>\n",
       "      <td>0.133404</td>\n",
       "      <td>NaN</td>\n",
       "      <td></td>\n",
       "    </tr>\n",
       "    <tr>\n",
       "      <th>357</th>\n",
       "      <td>2021-10-06</td>\n",
       "      <td>A069500</td>\n",
       "      <td>A009</td>\n",
       "      <td>적극투자형대규모</td>\n",
       "      <td>Equity</td>\n",
       "      <td>KODEX 200</td>\n",
       "      <td>3.0</td>\n",
       "      <td>40195.0</td>\n",
       "      <td>120585.0</td>\n",
       "      <td>38260.0</td>\n",
       "      <td>114780.0</td>\n",
       "      <td>0.094020</td>\n",
       "      <td>NaN</td>\n",
       "      <td></td>\n",
       "    </tr>\n",
       "    <tr>\n",
       "      <th>358</th>\n",
       "      <td>2021-10-06</td>\n",
       "      <td>A114260</td>\n",
       "      <td>A009</td>\n",
       "      <td>적극투자형대규모</td>\n",
       "      <td>Fixed Income</td>\n",
       "      <td>KODEX 국고채3년</td>\n",
       "      <td>1.0</td>\n",
       "      <td>57760.0</td>\n",
       "      <td>57760.0</td>\n",
       "      <td>57515.0</td>\n",
       "      <td>57515.0</td>\n",
       "      <td>0.047112</td>\n",
       "      <td>NaN</td>\n",
       "      <td></td>\n",
       "    </tr>\n",
       "    <tr>\n",
       "      <th>359</th>\n",
       "      <td>2021-10-06</td>\n",
       "      <td>C000001</td>\n",
       "      <td>A009</td>\n",
       "      <td>적극투자형대규모</td>\n",
       "      <td>Cash</td>\n",
       "      <td>현금</td>\n",
       "      <td>7460.0</td>\n",
       "      <td>1.0</td>\n",
       "      <td>7460.0</td>\n",
       "      <td>1.0</td>\n",
       "      <td>7460.0</td>\n",
       "      <td>0.006111</td>\n",
       "      <td>NaN</td>\n",
       "      <td></td>\n",
       "    </tr>\n",
       "  </tbody>\n",
       "</table>\n",
       "<p>360 rows × 14 columns</p>\n",
       "</div>"
      ],
      "text/plain": [
       "          date itemcode userid      name   asset_class              itemname  \\\n",
       "0   2021-10-02  A114260   A001  안정추구형소규모  Fixed Income           KODEX 국고채3년   \n",
       "1   2021-10-02  A122260   A001  안정추구형소규모  Fixed Income           KOSEF 통안채1년   \n",
       "2   2021-10-02  A130730   A001  안정추구형소규모  Fixed Income            KOSEF 단기자금   \n",
       "3   2021-10-02  A196230   A001  안정추구형소규모  Fixed Income          KBSTAR 단기통안채   \n",
       "4   2021-10-02  A273130   A001  안정추구형소규모  Fixed Income  KODEX 종합채권(AA-이상)액티브   \n",
       "..         ...      ...    ...       ...           ...                   ...   \n",
       "355 2021-10-06  A278540   A009  적극투자형대규모        Equity   KODEX MSCI Korea TR   \n",
       "356 2021-10-06  A102780   A009  적극투자형대규모        Equity            KODEX 삼성그룹   \n",
       "357 2021-10-06  A069500   A009  적극투자형대규모        Equity             KODEX 200   \n",
       "358 2021-10-06  A114260   A009  적극투자형대규모  Fixed Income           KODEX 국고채3년   \n",
       "359 2021-10-06  C000001   A009  적극투자형대규모          Cash                    현금   \n",
       "\n",
       "     quantity  cost_price  cost_value     price     value        wt  group_by  \\\n",
       "0         2.0     57760.0    115520.0   57675.0  115350.0  0.162528       NaN   \n",
       "1         1.0    101265.0    101265.0  101265.0  101265.0  0.142682       NaN   \n",
       "2         2.0    101245.0    202490.0  101245.0  202490.0  0.285308       NaN   \n",
       "3         1.0    104605.0    104605.0  104610.0  104610.0  0.147395       NaN   \n",
       "4         1.0    108380.0    108380.0  108350.0  108350.0  0.152665       NaN   \n",
       "..        ...         ...         ...       ...       ...       ...       ...   \n",
       "355      23.0     12875.0    296125.0   12230.0  281290.0  0.230414       NaN   \n",
       "356      17.0     10075.0    171275.0    9580.0  162860.0  0.133404       NaN   \n",
       "357       3.0     40195.0    120585.0   38260.0  114780.0  0.094020       NaN   \n",
       "358       1.0     57760.0     57760.0   57515.0   57515.0  0.047112       NaN   \n",
       "359    7460.0         1.0      7460.0       1.0    7460.0  0.006111       NaN   \n",
       "\n",
       "    original  \n",
       "0             \n",
       "1             \n",
       "2             \n",
       "3             \n",
       "4             \n",
       "..       ...  \n",
       "355           \n",
       "356           \n",
       "357           \n",
       "358           \n",
       "359           \n",
       "\n",
       "[360 rows x 14 columns]"
      ]
     },
     "execution_count": 12,
     "metadata": {},
     "output_type": "execute_result"
    }
   ],
   "source": [
    "bal_btw_rebal"
   ]
  },
  {
   "cell_type": "code",
   "execution_count": 13,
   "id": "beautiful-highway",
   "metadata": {
    "ExecuteTime": {
     "end_time": "2021-10-06T07:41:16.435415Z",
     "start_time": "2021-10-06T07:41:16.406494Z"
    }
   },
   "outputs": [],
   "source": [
    "bal_btw_rebal.to_csv(access_path + 'bal_btw_rebal.dat', index=False, encoding='utf-8-sig')"
   ]
  },
  {
   "cell_type": "code",
   "execution_count": 14,
   "id": "automatic-portland",
   "metadata": {
    "ExecuteTime": {
     "end_time": "2021-10-06T07:41:17.204300Z",
     "start_time": "2021-10-06T07:41:17.198315Z"
    }
   },
   "outputs": [
    {
     "data": {
      "text/plain": [
       "Index(['date', 'itemcode', 'userid', 'name', 'asset_class', 'itemname',\n",
       "       'quantity', 'cost_price', 'cost_value', 'price', 'value', 'wt',\n",
       "       'group_by', 'original'],\n",
       "      dtype='object')"
      ]
     },
     "execution_count": 14,
     "metadata": {},
     "output_type": "execute_result"
    }
   ],
   "source": [
    "bal_btw_rebal.columns"
   ]
  },
  {
   "cell_type": "code",
   "execution_count": null,
   "id": "criminal-society",
   "metadata": {},
   "outputs": [],
   "source": []
  },
  {
   "cell_type": "code",
   "execution_count": null,
   "id": "e0e885ed",
   "metadata": {},
   "outputs": [],
   "source": []
  }
 ],
 "metadata": {
  "kernelspec": {
   "display_name": "Python 3",
   "language": "python",
   "name": "python3"
  },
  "language_info": {
   "codemirror_mode": {
    "name": "ipython",
    "version": 3
   },
   "file_extension": ".py",
   "mimetype": "text/x-python",
   "name": "python",
   "nbconvert_exporter": "python",
   "pygments_lexer": "ipython3",
   "version": "3.8.8"
  }
 },
 "nbformat": 4,
 "nbformat_minor": 5
}
